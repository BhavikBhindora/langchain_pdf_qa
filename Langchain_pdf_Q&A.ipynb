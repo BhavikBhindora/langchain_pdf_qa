{
  "cells": [
    {
      "cell_type": "markdown",
      "metadata": {
        "id": "gNkOxOO9P37I"
      },
      "source": [
        "# Install Packages"
      ]
    },
    {
      "cell_type": "code",
      "execution_count": null,
      "metadata": {
        "colab": {
          "base_uri": "https://localhost:8080/"
        },
        "id": "DCRbdnYGPq3Y",
        "outputId": "8b2229a0-4e2b-40db-9d64-fe876481bb0f"
      },
      "outputs": [
        {
          "name": "stdout",
          "output_type": "stream",
          "text": [
            "Collecting langchain\n",
            "  Downloading langchain-0.2.12-py3-none-any.whl.metadata (7.1 kB)\n",
            "Requirement already satisfied: PyYAML>=5.3 in /usr/local/lib/python3.10/dist-packages (from langchain) (6.0.1)\n",
            "Requirement already satisfied: SQLAlchemy<3,>=1.4 in /usr/local/lib/python3.10/dist-packages (from langchain) (2.0.31)\n",
            "Requirement already satisfied: aiohttp<4.0.0,>=3.8.3 in /usr/local/lib/python3.10/dist-packages (from langchain) (3.10.0)\n",
            "Requirement already satisfied: async-timeout<5.0.0,>=4.0.0 in /usr/local/lib/python3.10/dist-packages (from langchain) (4.0.3)\n",
            "Collecting langchain-core<0.3.0,>=0.2.27 (from langchain)\n",
            "  Downloading langchain_core-0.2.28-py3-none-any.whl.metadata (6.2 kB)\n",
            "Collecting langchain-text-splitters<0.3.0,>=0.2.0 (from langchain)\n",
            "  Downloading langchain_text_splitters-0.2.2-py3-none-any.whl.metadata (2.1 kB)\n",
            "Collecting langsmith<0.2.0,>=0.1.17 (from langchain)\n",
            "  Downloading langsmith-0.1.98-py3-none-any.whl.metadata (13 kB)\n",
            "Requirement already satisfied: numpy<2,>=1 in /usr/local/lib/python3.10/dist-packages (from langchain) (1.26.4)\n",
            "Requirement already satisfied: pydantic<3,>=1 in /usr/local/lib/python3.10/dist-packages (from langchain) (2.8.2)\n",
            "Requirement already satisfied: requests<3,>=2 in /usr/local/lib/python3.10/dist-packages (from langchain) (2.31.0)\n",
            "Collecting tenacity!=8.4.0,<9.0.0,>=8.1.0 (from langchain)\n",
            "  Downloading tenacity-8.5.0-py3-none-any.whl.metadata (1.2 kB)\n",
            "Requirement already satisfied: aiohappyeyeballs>=2.3.0 in /usr/local/lib/python3.10/dist-packages (from aiohttp<4.0.0,>=3.8.3->langchain) (2.3.4)\n",
            "Requirement already satisfied: aiosignal>=1.1.2 in /usr/local/lib/python3.10/dist-packages (from aiohttp<4.0.0,>=3.8.3->langchain) (1.3.1)\n",
            "Requirement already satisfied: attrs>=17.3.0 in /usr/local/lib/python3.10/dist-packages (from aiohttp<4.0.0,>=3.8.3->langchain) (23.2.0)\n",
            "Requirement already satisfied: frozenlist>=1.1.1 in /usr/local/lib/python3.10/dist-packages (from aiohttp<4.0.0,>=3.8.3->langchain) (1.4.1)\n",
            "Requirement already satisfied: multidict<7.0,>=4.5 in /usr/local/lib/python3.10/dist-packages (from aiohttp<4.0.0,>=3.8.3->langchain) (6.0.5)\n",
            "Requirement already satisfied: yarl<2.0,>=1.0 in /usr/local/lib/python3.10/dist-packages (from aiohttp<4.0.0,>=3.8.3->langchain) (1.9.4)\n",
            "Collecting jsonpatch<2.0,>=1.33 (from langchain-core<0.3.0,>=0.2.27->langchain)\n",
            "  Downloading jsonpatch-1.33-py2.py3-none-any.whl.metadata (3.0 kB)\n",
            "Requirement already satisfied: packaging<25,>=23.2 in /usr/local/lib/python3.10/dist-packages (from langchain-core<0.3.0,>=0.2.27->langchain) (24.1)\n",
            "Requirement already satisfied: typing-extensions>=4.7 in /usr/local/lib/python3.10/dist-packages (from langchain-core<0.3.0,>=0.2.27->langchain) (4.12.2)\n",
            "Collecting orjson<4.0.0,>=3.9.14 (from langsmith<0.2.0,>=0.1.17->langchain)\n",
            "  Downloading orjson-3.10.6-cp310-cp310-manylinux_2_17_x86_64.manylinux2014_x86_64.whl.metadata (50 kB)\n",
            "\u001b[2K     \u001b[90m━━━━━━━━━━━━━━━━━━━━━━━━━━━━━━━━━━━━━━━━\u001b[0m \u001b[32m50.4/50.4 kB\u001b[0m \u001b[31m1.2 MB/s\u001b[0m eta \u001b[36m0:00:00\u001b[0m\n",
            "\u001b[?25hRequirement already satisfied: annotated-types>=0.4.0 in /usr/local/lib/python3.10/dist-packages (from pydantic<3,>=1->langchain) (0.7.0)\n",
            "Requirement already satisfied: pydantic-core==2.20.1 in /usr/local/lib/python3.10/dist-packages (from pydantic<3,>=1->langchain) (2.20.1)\n",
            "Requirement already satisfied: charset-normalizer<4,>=2 in /usr/local/lib/python3.10/dist-packages (from requests<3,>=2->langchain) (3.3.2)\n",
            "Requirement already satisfied: idna<4,>=2.5 in /usr/local/lib/python3.10/dist-packages (from requests<3,>=2->langchain) (3.7)\n",
            "Requirement already satisfied: urllib3<3,>=1.21.1 in /usr/local/lib/python3.10/dist-packages (from requests<3,>=2->langchain) (2.0.7)\n",
            "Requirement already satisfied: certifi>=2017.4.17 in /usr/local/lib/python3.10/dist-packages (from requests<3,>=2->langchain) (2024.7.4)\n",
            "Requirement already satisfied: greenlet!=0.4.17 in /usr/local/lib/python3.10/dist-packages (from SQLAlchemy<3,>=1.4->langchain) (3.0.3)\n",
            "Collecting jsonpointer>=1.9 (from jsonpatch<2.0,>=1.33->langchain-core<0.3.0,>=0.2.27->langchain)\n",
            "  Downloading jsonpointer-3.0.0-py2.py3-none-any.whl.metadata (2.3 kB)\n",
            "Downloading langchain-0.2.12-py3-none-any.whl (990 kB)\n",
            "\u001b[2K   \u001b[90m━━━━━━━━━━━━━━━━━━━━━━━━━━━━━━━━━━━━━━━━\u001b[0m \u001b[32m990.6/990.6 kB\u001b[0m \u001b[31m15.7 MB/s\u001b[0m eta \u001b[36m0:00:00\u001b[0m\n",
            "\u001b[?25hDownloading langchain_core-0.2.28-py3-none-any.whl (379 kB)\n",
            "\u001b[2K   \u001b[90m━━━━━━━━━━━━━━━━━━━━━━━━━━━━━━━━━━━━━━━━\u001b[0m \u001b[32m379.9/379.9 kB\u001b[0m \u001b[31m18.2 MB/s\u001b[0m eta \u001b[36m0:00:00\u001b[0m\n",
            "\u001b[?25hDownloading langchain_text_splitters-0.2.2-py3-none-any.whl (25 kB)\n",
            "Downloading langsmith-0.1.98-py3-none-any.whl (140 kB)\n",
            "\u001b[2K   \u001b[90m━━━━━━━━━━━━━━━━━━━━━━━━━━━━━━━━━━━━━━━━\u001b[0m \u001b[32m140.2/140.2 kB\u001b[0m \u001b[31m9.2 MB/s\u001b[0m eta \u001b[36m0:00:00\u001b[0m\n",
            "\u001b[?25hDownloading tenacity-8.5.0-py3-none-any.whl (28 kB)\n",
            "Downloading jsonpatch-1.33-py2.py3-none-any.whl (12 kB)\n",
            "Downloading orjson-3.10.6-cp310-cp310-manylinux_2_17_x86_64.manylinux2014_x86_64.whl (141 kB)\n",
            "\u001b[2K   \u001b[90m━━━━━━━━━━━━━━━━━━━━━━━━━━━━━━━━━━━━━━━━\u001b[0m \u001b[32m141.1/141.1 kB\u001b[0m \u001b[31m9.7 MB/s\u001b[0m eta \u001b[36m0:00:00\u001b[0m\n",
            "\u001b[?25hDownloading jsonpointer-3.0.0-py2.py3-none-any.whl (7.6 kB)\n",
            "Installing collected packages: tenacity, orjson, jsonpointer, jsonpatch, langsmith, langchain-core, langchain-text-splitters, langchain\n",
            "  Attempting uninstall: tenacity\n",
            "    Found existing installation: tenacity 9.0.0\n",
            "    Uninstalling tenacity-9.0.0:\n",
            "      Successfully uninstalled tenacity-9.0.0\n",
            "Successfully installed jsonpatch-1.33 jsonpointer-3.0.0 langchain-0.2.12 langchain-core-0.2.28 langchain-text-splitters-0.2.2 langsmith-0.1.98 orjson-3.10.6 tenacity-8.5.0\n",
            "Collecting openai\n",
            "  Downloading openai-1.39.0-py3-none-any.whl.metadata (22 kB)\n",
            "Requirement already satisfied: anyio<5,>=3.5.0 in /usr/local/lib/python3.10/dist-packages (from openai) (3.7.1)\n",
            "Requirement already satisfied: distro<2,>=1.7.0 in /usr/lib/python3/dist-packages (from openai) (1.7.0)\n",
            "Collecting httpx<1,>=0.23.0 (from openai)\n",
            "  Downloading httpx-0.27.0-py3-none-any.whl.metadata (7.2 kB)\n",
            "Requirement already satisfied: pydantic<3,>=1.9.0 in /usr/local/lib/python3.10/dist-packages (from openai) (2.8.2)\n",
            "Requirement already satisfied: sniffio in /usr/local/lib/python3.10/dist-packages (from openai) (1.3.1)\n",
            "Requirement already satisfied: tqdm>4 in /usr/local/lib/python3.10/dist-packages (from openai) (4.66.4)\n",
            "Requirement already satisfied: typing-extensions<5,>=4.7 in /usr/local/lib/python3.10/dist-packages (from openai) (4.12.2)\n",
            "Requirement already satisfied: idna>=2.8 in /usr/local/lib/python3.10/dist-packages (from anyio<5,>=3.5.0->openai) (3.7)\n",
            "Requirement already satisfied: exceptiongroup in /usr/local/lib/python3.10/dist-packages (from anyio<5,>=3.5.0->openai) (1.2.2)\n",
            "Requirement already satisfied: certifi in /usr/local/lib/python3.10/dist-packages (from httpx<1,>=0.23.0->openai) (2024.7.4)\n",
            "Collecting httpcore==1.* (from httpx<1,>=0.23.0->openai)\n",
            "  Downloading httpcore-1.0.5-py3-none-any.whl.metadata (20 kB)\n",
            "Collecting h11<0.15,>=0.13 (from httpcore==1.*->httpx<1,>=0.23.0->openai)\n",
            "  Downloading h11-0.14.0-py3-none-any.whl.metadata (8.2 kB)\n",
            "Requirement already satisfied: annotated-types>=0.4.0 in /usr/local/lib/python3.10/dist-packages (from pydantic<3,>=1.9.0->openai) (0.7.0)\n",
            "Requirement already satisfied: pydantic-core==2.20.1 in /usr/local/lib/python3.10/dist-packages (from pydantic<3,>=1.9.0->openai) (2.20.1)\n",
            "Downloading openai-1.39.0-py3-none-any.whl (336 kB)\n",
            "\u001b[2K   \u001b[90m━━━━━━━━━━━━━━━━━━━━━━━━━━━━━━━━━━━━━━━━\u001b[0m \u001b[32m336.7/336.7 kB\u001b[0m \u001b[31m7.8 MB/s\u001b[0m eta \u001b[36m0:00:00\u001b[0m\n",
            "\u001b[?25hDownloading httpx-0.27.0-py3-none-any.whl (75 kB)\n",
            "\u001b[2K   \u001b[90m━━━━━━━━━━━━━━━━━━━━━━━━━━━━━━━━━━━━━━━━\u001b[0m \u001b[32m75.6/75.6 kB\u001b[0m \u001b[31m4.0 MB/s\u001b[0m eta \u001b[36m0:00:00\u001b[0m\n",
            "\u001b[?25hDownloading httpcore-1.0.5-py3-none-any.whl (77 kB)\n",
            "\u001b[2K   \u001b[90m━━━━━━━━━━━━━━━━━━━━━━━━━━━━━━━━━━━━━━━━\u001b[0m \u001b[32m77.9/77.9 kB\u001b[0m \u001b[31m1.4 MB/s\u001b[0m eta \u001b[36m0:00:00\u001b[0m\n",
            "\u001b[?25hDownloading h11-0.14.0-py3-none-any.whl (58 kB)\n",
            "\u001b[2K   \u001b[90m━━━━━━━━━━━━━━━━━━━━━━━━━━━━━━━━━━━━━━━━\u001b[0m \u001b[32m58.3/58.3 kB\u001b[0m \u001b[31m2.8 MB/s\u001b[0m eta \u001b[36m0:00:00\u001b[0m\n",
            "\u001b[?25hInstalling collected packages: h11, httpcore, httpx, openai\n",
            "Successfully installed h11-0.14.0 httpcore-1.0.5 httpx-0.27.0 openai-1.39.0\n",
            "Collecting PyPDF2\n",
            "  Downloading pypdf2-3.0.1-py3-none-any.whl.metadata (6.8 kB)\n",
            "Downloading pypdf2-3.0.1-py3-none-any.whl (232 kB)\n",
            "\u001b[2K   \u001b[90m━━━━━━━━━━━━━━━━━━━━━━━━━━━━━━━━━━━━━━━━\u001b[0m \u001b[32m232.6/232.6 kB\u001b[0m \u001b[31m4.0 MB/s\u001b[0m eta \u001b[36m0:00:00\u001b[0m\n",
            "\u001b[?25hInstalling collected packages: PyPDF2\n",
            "Successfully installed PyPDF2-3.0.1\n",
            "Collecting faiss-cpu\n",
            "  Downloading faiss_cpu-1.8.0.post1-cp310-cp310-manylinux_2_17_x86_64.manylinux2014_x86_64.whl.metadata (3.7 kB)\n",
            "Requirement already satisfied: numpy<2.0,>=1.0 in /usr/local/lib/python3.10/dist-packages (from faiss-cpu) (1.26.4)\n",
            "Requirement already satisfied: packaging in /usr/local/lib/python3.10/dist-packages (from faiss-cpu) (24.1)\n",
            "Downloading faiss_cpu-1.8.0.post1-cp310-cp310-manylinux_2_17_x86_64.manylinux2014_x86_64.whl (27.0 MB)\n",
            "\u001b[2K   \u001b[90m━━━━━━━━━━━━━━━━━━━━━━━━━━━━━━━━━━━━━━━━\u001b[0m \u001b[32m27.0/27.0 MB\u001b[0m \u001b[31m60.7 MB/s\u001b[0m eta \u001b[36m0:00:00\u001b[0m\n",
            "\u001b[?25hInstalling collected packages: faiss-cpu\n",
            "Successfully installed faiss-cpu-1.8.0.post1\n",
            "Collecting tiktoken\n",
            "  Downloading tiktoken-0.7.0-cp310-cp310-manylinux_2_17_x86_64.manylinux2014_x86_64.whl.metadata (6.6 kB)\n",
            "Requirement already satisfied: regex>=2022.1.18 in /usr/local/lib/python3.10/dist-packages (from tiktoken) (2024.5.15)\n",
            "Requirement already satisfied: requests>=2.26.0 in /usr/local/lib/python3.10/dist-packages (from tiktoken) (2.31.0)\n",
            "Requirement already satisfied: charset-normalizer<4,>=2 in /usr/local/lib/python3.10/dist-packages (from requests>=2.26.0->tiktoken) (3.3.2)\n",
            "Requirement already satisfied: idna<4,>=2.5 in /usr/local/lib/python3.10/dist-packages (from requests>=2.26.0->tiktoken) (3.7)\n",
            "Requirement already satisfied: urllib3<3,>=1.21.1 in /usr/local/lib/python3.10/dist-packages (from requests>=2.26.0->tiktoken) (2.0.7)\n",
            "Requirement already satisfied: certifi>=2017.4.17 in /usr/local/lib/python3.10/dist-packages (from requests>=2.26.0->tiktoken) (2024.7.4)\n",
            "Downloading tiktoken-0.7.0-cp310-cp310-manylinux_2_17_x86_64.manylinux2014_x86_64.whl (1.1 MB)\n",
            "\u001b[2K   \u001b[90m━━━━━━━━━━━━━━━━━━━━━━━━━━━━━━━━━━━━━━━━\u001b[0m \u001b[32m1.1/1.1 MB\u001b[0m \u001b[31m4.9 MB/s\u001b[0m eta \u001b[36m0:00:00\u001b[0m\n",
            "\u001b[?25hInstalling collected packages: tiktoken\n",
            "Successfully installed tiktoken-0.7.0\n",
            "Collecting langchain-community\n",
            "  Downloading langchain_community-0.2.11-py3-none-any.whl.metadata (2.7 kB)\n",
            "Requirement already satisfied: PyYAML>=5.3 in /usr/local/lib/python3.10/dist-packages (from langchain-community) (6.0.1)\n",
            "Requirement already satisfied: SQLAlchemy<3,>=1.4 in /usr/local/lib/python3.10/dist-packages (from langchain-community) (2.0.31)\n",
            "Requirement already satisfied: aiohttp<4.0.0,>=3.8.3 in /usr/local/lib/python3.10/dist-packages (from langchain-community) (3.10.0)\n",
            "Collecting dataclasses-json<0.7,>=0.5.7 (from langchain-community)\n",
            "  Downloading dataclasses_json-0.6.7-py3-none-any.whl.metadata (25 kB)\n",
            "Requirement already satisfied: langchain<0.3.0,>=0.2.12 in /usr/local/lib/python3.10/dist-packages (from langchain-community) (0.2.12)\n",
            "Requirement already satisfied: langchain-core<0.3.0,>=0.2.27 in /usr/local/lib/python3.10/dist-packages (from langchain-community) (0.2.28)\n",
            "Requirement already satisfied: langsmith<0.2.0,>=0.1.0 in /usr/local/lib/python3.10/dist-packages (from langchain-community) (0.1.98)\n",
            "Requirement already satisfied: numpy<2,>=1 in /usr/local/lib/python3.10/dist-packages (from langchain-community) (1.26.4)\n",
            "Requirement already satisfied: requests<3,>=2 in /usr/local/lib/python3.10/dist-packages (from langchain-community) (2.31.0)\n",
            "Requirement already satisfied: tenacity!=8.4.0,<9.0.0,>=8.1.0 in /usr/local/lib/python3.10/dist-packages (from langchain-community) (8.5.0)\n",
            "Requirement already satisfied: aiohappyeyeballs>=2.3.0 in /usr/local/lib/python3.10/dist-packages (from aiohttp<4.0.0,>=3.8.3->langchain-community) (2.3.4)\n",
            "Requirement already satisfied: aiosignal>=1.1.2 in /usr/local/lib/python3.10/dist-packages (from aiohttp<4.0.0,>=3.8.3->langchain-community) (1.3.1)\n",
            "Requirement already satisfied: attrs>=17.3.0 in /usr/local/lib/python3.10/dist-packages (from aiohttp<4.0.0,>=3.8.3->langchain-community) (23.2.0)\n",
            "Requirement already satisfied: frozenlist>=1.1.1 in /usr/local/lib/python3.10/dist-packages (from aiohttp<4.0.0,>=3.8.3->langchain-community) (1.4.1)\n",
            "Requirement already satisfied: multidict<7.0,>=4.5 in /usr/local/lib/python3.10/dist-packages (from aiohttp<4.0.0,>=3.8.3->langchain-community) (6.0.5)\n",
            "Requirement already satisfied: yarl<2.0,>=1.0 in /usr/local/lib/python3.10/dist-packages (from aiohttp<4.0.0,>=3.8.3->langchain-community) (1.9.4)\n",
            "Requirement already satisfied: async-timeout<5.0,>=4.0 in /usr/local/lib/python3.10/dist-packages (from aiohttp<4.0.0,>=3.8.3->langchain-community) (4.0.3)\n",
            "Collecting marshmallow<4.0.0,>=3.18.0 (from dataclasses-json<0.7,>=0.5.7->langchain-community)\n",
            "  Downloading marshmallow-3.21.3-py3-none-any.whl.metadata (7.1 kB)\n",
            "Collecting typing-inspect<1,>=0.4.0 (from dataclasses-json<0.7,>=0.5.7->langchain-community)\n",
            "  Downloading typing_inspect-0.9.0-py3-none-any.whl.metadata (1.5 kB)\n",
            "Requirement already satisfied: langchain-text-splitters<0.3.0,>=0.2.0 in /usr/local/lib/python3.10/dist-packages (from langchain<0.3.0,>=0.2.12->langchain-community) (0.2.2)\n",
            "Requirement already satisfied: pydantic<3,>=1 in /usr/local/lib/python3.10/dist-packages (from langchain<0.3.0,>=0.2.12->langchain-community) (2.8.2)\n",
            "Requirement already satisfied: jsonpatch<2.0,>=1.33 in /usr/local/lib/python3.10/dist-packages (from langchain-core<0.3.0,>=0.2.27->langchain-community) (1.33)\n",
            "Requirement already satisfied: packaging<25,>=23.2 in /usr/local/lib/python3.10/dist-packages (from langchain-core<0.3.0,>=0.2.27->langchain-community) (24.1)\n",
            "Requirement already satisfied: typing-extensions>=4.7 in /usr/local/lib/python3.10/dist-packages (from langchain-core<0.3.0,>=0.2.27->langchain-community) (4.12.2)\n",
            "Requirement already satisfied: orjson<4.0.0,>=3.9.14 in /usr/local/lib/python3.10/dist-packages (from langsmith<0.2.0,>=0.1.0->langchain-community) (3.10.6)\n",
            "Requirement already satisfied: charset-normalizer<4,>=2 in /usr/local/lib/python3.10/dist-packages (from requests<3,>=2->langchain-community) (3.3.2)\n",
            "Requirement already satisfied: idna<4,>=2.5 in /usr/local/lib/python3.10/dist-packages (from requests<3,>=2->langchain-community) (3.7)\n",
            "Requirement already satisfied: urllib3<3,>=1.21.1 in /usr/local/lib/python3.10/dist-packages (from requests<3,>=2->langchain-community) (2.0.7)\n",
            "Requirement already satisfied: certifi>=2017.4.17 in /usr/local/lib/python3.10/dist-packages (from requests<3,>=2->langchain-community) (2024.7.4)\n",
            "Requirement already satisfied: greenlet!=0.4.17 in /usr/local/lib/python3.10/dist-packages (from SQLAlchemy<3,>=1.4->langchain-community) (3.0.3)\n",
            "Requirement already satisfied: jsonpointer>=1.9 in /usr/local/lib/python3.10/dist-packages (from jsonpatch<2.0,>=1.33->langchain-core<0.3.0,>=0.2.27->langchain-community) (3.0.0)\n",
            "Requirement already satisfied: annotated-types>=0.4.0 in /usr/local/lib/python3.10/dist-packages (from pydantic<3,>=1->langchain<0.3.0,>=0.2.12->langchain-community) (0.7.0)\n",
            "Requirement already satisfied: pydantic-core==2.20.1 in /usr/local/lib/python3.10/dist-packages (from pydantic<3,>=1->langchain<0.3.0,>=0.2.12->langchain-community) (2.20.1)\n",
            "Collecting mypy-extensions>=0.3.0 (from typing-inspect<1,>=0.4.0->dataclasses-json<0.7,>=0.5.7->langchain-community)\n",
            "  Downloading mypy_extensions-1.0.0-py3-none-any.whl.metadata (1.1 kB)\n",
            "Downloading langchain_community-0.2.11-py3-none-any.whl (2.3 MB)\n",
            "\u001b[2K   \u001b[90m━━━━━━━━━━━━━━━━━━━━━━━━━━━━━━━━━━━━━━━━\u001b[0m \u001b[32m2.3/2.3 MB\u001b[0m \u001b[31m26.8 MB/s\u001b[0m eta \u001b[36m0:00:00\u001b[0m\n",
            "\u001b[?25hDownloading dataclasses_json-0.6.7-py3-none-any.whl (28 kB)\n",
            "Downloading marshmallow-3.21.3-py3-none-any.whl (49 kB)\n",
            "\u001b[2K   \u001b[90m━━━━━━━━━━━━━━━━━━━━━━━━━━━━━━━━━━━━━━━━\u001b[0m \u001b[32m49.2/49.2 kB\u001b[0m \u001b[31m2.9 MB/s\u001b[0m eta \u001b[36m0:00:00\u001b[0m\n",
            "\u001b[?25hDownloading typing_inspect-0.9.0-py3-none-any.whl (8.8 kB)\n",
            "Downloading mypy_extensions-1.0.0-py3-none-any.whl (4.7 kB)\n",
            "Installing collected packages: mypy-extensions, marshmallow, typing-inspect, dataclasses-json, langchain-community\n",
            "Successfully installed dataclasses-json-0.6.7 langchain-community-0.2.11 marshmallow-3.21.3 mypy-extensions-1.0.0 typing-inspect-0.9.0\n",
            "Collecting chromadb\n",
            "  Downloading chromadb-0.5.5-py3-none-any.whl.metadata (6.8 kB)\n",
            "Requirement already satisfied: build>=1.0.3 in /usr/local/lib/python3.10/dist-packages (from chromadb) (1.2.1)\n",
            "Requirement already satisfied: pydantic>=1.9 in /usr/local/lib/python3.10/dist-packages (from chromadb) (2.8.2)\n",
            "Collecting chroma-hnswlib==0.7.6 (from chromadb)\n",
            "  Downloading chroma_hnswlib-0.7.6-cp310-cp310-manylinux_2_17_x86_64.manylinux2014_x86_64.whl.metadata (252 bytes)\n",
            "Collecting fastapi>=0.95.2 (from chromadb)\n",
            "  Downloading fastapi-0.112.0-py3-none-any.whl.metadata (27 kB)\n",
            "Collecting uvicorn>=0.18.3 (from uvicorn[standard]>=0.18.3->chromadb)\n",
            "  Downloading uvicorn-0.30.5-py3-none-any.whl.metadata (6.6 kB)\n",
            "Requirement already satisfied: numpy<2.0.0,>=1.22.5 in /usr/local/lib/python3.10/dist-packages (from chromadb) (1.26.4)\n",
            "Collecting posthog>=2.4.0 (from chromadb)\n",
            "  Downloading posthog-3.5.0-py2.py3-none-any.whl.metadata (2.0 kB)\n",
            "Requirement already satisfied: typing-extensions>=4.5.0 in /usr/local/lib/python3.10/dist-packages (from chromadb) (4.12.2)\n",
            "Collecting onnxruntime>=1.14.1 (from chromadb)\n",
            "  Downloading onnxruntime-1.18.1-cp310-cp310-manylinux_2_27_x86_64.manylinux_2_28_x86_64.whl.metadata (4.3 kB)\n",
            "Collecting opentelemetry-api>=1.2.0 (from chromadb)\n",
            "  Downloading opentelemetry_api-1.26.0-py3-none-any.whl.metadata (1.4 kB)\n",
            "Collecting opentelemetry-exporter-otlp-proto-grpc>=1.2.0 (from chromadb)\n",
            "  Downloading opentelemetry_exporter_otlp_proto_grpc-1.26.0-py3-none-any.whl.metadata (2.3 kB)\n",
            "Collecting opentelemetry-instrumentation-fastapi>=0.41b0 (from chromadb)\n",
            "  Downloading opentelemetry_instrumentation_fastapi-0.47b0-py3-none-any.whl.metadata (2.1 kB)\n",
            "Collecting opentelemetry-sdk>=1.2.0 (from chromadb)\n",
            "  Downloading opentelemetry_sdk-1.26.0-py3-none-any.whl.metadata (1.5 kB)\n",
            "Requirement already satisfied: tokenizers>=0.13.2 in /usr/local/lib/python3.10/dist-packages (from chromadb) (0.19.1)\n",
            "Collecting pypika>=0.48.9 (from chromadb)\n",
            "  Downloading PyPika-0.48.9.tar.gz (67 kB)\n",
            "\u001b[2K     \u001b[90m━━━━━━━━━━━━━━━━━━━━━━━━━━━━━━━━━━━━━━━━\u001b[0m \u001b[32m67.3/67.3 kB\u001b[0m \u001b[31m3.2 MB/s\u001b[0m eta \u001b[36m0:00:00\u001b[0m\n",
            "\u001b[?25h  Installing build dependencies ... \u001b[?25l\u001b[?25hdone\n",
            "  Getting requirements to build wheel ... \u001b[?25l\u001b[?25hdone\n",
            "  Preparing metadata (pyproject.toml) ... \u001b[?25l\u001b[?25hdone\n",
            "Requirement already satisfied: tqdm>=4.65.0 in /usr/local/lib/python3.10/dist-packages (from chromadb) (4.66.4)\n",
            "Collecting overrides>=7.3.1 (from chromadb)\n",
            "  Downloading overrides-7.7.0-py3-none-any.whl.metadata (5.8 kB)\n",
            "Requirement already satisfied: importlib-resources in /usr/local/lib/python3.10/dist-packages (from chromadb) (6.4.0)\n",
            "Requirement already satisfied: grpcio>=1.58.0 in /usr/local/lib/python3.10/dist-packages (from chromadb) (1.64.1)\n",
            "Collecting bcrypt>=4.0.1 (from chromadb)\n",
            "  Downloading bcrypt-4.2.0-cp39-abi3-manylinux_2_28_x86_64.whl.metadata (9.6 kB)\n",
            "Requirement already satisfied: typer>=0.9.0 in /usr/local/lib/python3.10/dist-packages (from chromadb) (0.12.3)\n",
            "Collecting kubernetes>=28.1.0 (from chromadb)\n",
            "  Downloading kubernetes-30.1.0-py2.py3-none-any.whl.metadata (1.5 kB)\n",
            "Requirement already satisfied: tenacity>=8.2.3 in /usr/local/lib/python3.10/dist-packages (from chromadb) (8.5.0)\n",
            "Requirement already satisfied: PyYAML>=6.0.0 in /usr/local/lib/python3.10/dist-packages (from chromadb) (6.0.1)\n",
            "Collecting mmh3>=4.0.1 (from chromadb)\n",
            "  Downloading mmh3-4.1.0-cp310-cp310-manylinux_2_5_x86_64.manylinux1_x86_64.manylinux_2_17_x86_64.manylinux2014_x86_64.whl.metadata (13 kB)\n",
            "Requirement already satisfied: orjson>=3.9.12 in /usr/local/lib/python3.10/dist-packages (from chromadb) (3.10.6)\n",
            "Requirement already satisfied: httpx>=0.27.0 in /usr/local/lib/python3.10/dist-packages (from chromadb) (0.27.0)\n",
            "Requirement already satisfied: packaging>=19.1 in /usr/local/lib/python3.10/dist-packages (from build>=1.0.3->chromadb) (24.1)\n",
            "Requirement already satisfied: pyproject_hooks in /usr/local/lib/python3.10/dist-packages (from build>=1.0.3->chromadb) (1.1.0)\n",
            "Requirement already satisfied: tomli>=1.1.0 in /usr/local/lib/python3.10/dist-packages (from build>=1.0.3->chromadb) (2.0.1)\n",
            "Collecting starlette<0.38.0,>=0.37.2 (from fastapi>=0.95.2->chromadb)\n",
            "  Downloading starlette-0.37.2-py3-none-any.whl.metadata (5.9 kB)\n",
            "Requirement already satisfied: anyio in /usr/local/lib/python3.10/dist-packages (from httpx>=0.27.0->chromadb) (3.7.1)\n",
            "Requirement already satisfied: certifi in /usr/local/lib/python3.10/dist-packages (from httpx>=0.27.0->chromadb) (2024.7.4)\n",
            "Requirement already satisfied: httpcore==1.* in /usr/local/lib/python3.10/dist-packages (from httpx>=0.27.0->chromadb) (1.0.5)\n",
            "Requirement already satisfied: idna in /usr/local/lib/python3.10/dist-packages (from httpx>=0.27.0->chromadb) (3.7)\n",
            "Requirement already satisfied: sniffio in /usr/local/lib/python3.10/dist-packages (from httpx>=0.27.0->chromadb) (1.3.1)\n",
            "Requirement already satisfied: h11<0.15,>=0.13 in /usr/local/lib/python3.10/dist-packages (from httpcore==1.*->httpx>=0.27.0->chromadb) (0.14.0)\n",
            "Requirement already satisfied: six>=1.9.0 in /usr/local/lib/python3.10/dist-packages (from kubernetes>=28.1.0->chromadb) (1.16.0)\n",
            "Requirement already satisfied: python-dateutil>=2.5.3 in /usr/local/lib/python3.10/dist-packages (from kubernetes>=28.1.0->chromadb) (2.8.2)\n",
            "Requirement already satisfied: google-auth>=1.0.1 in /usr/local/lib/python3.10/dist-packages (from kubernetes>=28.1.0->chromadb) (2.27.0)\n",
            "Requirement already satisfied: websocket-client!=0.40.0,!=0.41.*,!=0.42.*,>=0.32.0 in /usr/local/lib/python3.10/dist-packages (from kubernetes>=28.1.0->chromadb) (1.8.0)\n",
            "Requirement already satisfied: requests in /usr/local/lib/python3.10/dist-packages (from kubernetes>=28.1.0->chromadb) (2.31.0)\n",
            "Requirement already satisfied: requests-oauthlib in /usr/local/lib/python3.10/dist-packages (from kubernetes>=28.1.0->chromadb) (1.3.1)\n",
            "Requirement already satisfied: oauthlib>=3.2.2 in /usr/local/lib/python3.10/dist-packages (from kubernetes>=28.1.0->chromadb) (3.2.2)\n",
            "Requirement already satisfied: urllib3>=1.24.2 in /usr/local/lib/python3.10/dist-packages (from kubernetes>=28.1.0->chromadb) (2.0.7)\n",
            "Collecting coloredlogs (from onnxruntime>=1.14.1->chromadb)\n",
            "  Downloading coloredlogs-15.0.1-py2.py3-none-any.whl.metadata (12 kB)\n",
            "Requirement already satisfied: flatbuffers in /usr/local/lib/python3.10/dist-packages (from onnxruntime>=1.14.1->chromadb) (24.3.25)\n",
            "Requirement already satisfied: protobuf in /usr/local/lib/python3.10/dist-packages (from onnxruntime>=1.14.1->chromadb) (3.20.3)\n",
            "Requirement already satisfied: sympy in /usr/local/lib/python3.10/dist-packages (from onnxruntime>=1.14.1->chromadb) (1.13.1)\n",
            "Collecting deprecated>=1.2.6 (from opentelemetry-api>=1.2.0->chromadb)\n",
            "  Downloading Deprecated-1.2.14-py2.py3-none-any.whl.metadata (5.4 kB)\n",
            "Collecting importlib-metadata<=8.0.0,>=6.0 (from opentelemetry-api>=1.2.0->chromadb)\n",
            "  Downloading importlib_metadata-8.0.0-py3-none-any.whl.metadata (4.6 kB)\n",
            "Requirement already satisfied: googleapis-common-protos~=1.52 in /usr/local/lib/python3.10/dist-packages (from opentelemetry-exporter-otlp-proto-grpc>=1.2.0->chromadb) (1.63.2)\n",
            "Collecting opentelemetry-exporter-otlp-proto-common==1.26.0 (from opentelemetry-exporter-otlp-proto-grpc>=1.2.0->chromadb)\n",
            "  Downloading opentelemetry_exporter_otlp_proto_common-1.26.0-py3-none-any.whl.metadata (1.8 kB)\n",
            "Collecting opentelemetry-proto==1.26.0 (from opentelemetry-exporter-otlp-proto-grpc>=1.2.0->chromadb)\n",
            "  Downloading opentelemetry_proto-1.26.0-py3-none-any.whl.metadata (2.3 kB)\n",
            "Collecting opentelemetry-instrumentation-asgi==0.47b0 (from opentelemetry-instrumentation-fastapi>=0.41b0->chromadb)\n",
            "  Downloading opentelemetry_instrumentation_asgi-0.47b0-py3-none-any.whl.metadata (2.0 kB)\n",
            "Collecting opentelemetry-instrumentation==0.47b0 (from opentelemetry-instrumentation-fastapi>=0.41b0->chromadb)\n",
            "  Downloading opentelemetry_instrumentation-0.47b0-py3-none-any.whl.metadata (6.1 kB)\n",
            "Collecting opentelemetry-semantic-conventions==0.47b0 (from opentelemetry-instrumentation-fastapi>=0.41b0->chromadb)\n",
            "  Downloading opentelemetry_semantic_conventions-0.47b0-py3-none-any.whl.metadata (2.4 kB)\n",
            "Collecting opentelemetry-util-http==0.47b0 (from opentelemetry-instrumentation-fastapi>=0.41b0->chromadb)\n",
            "  Downloading opentelemetry_util_http-0.47b0-py3-none-any.whl.metadata (2.5 kB)\n",
            "Requirement already satisfied: setuptools>=16.0 in /usr/local/lib/python3.10/dist-packages (from opentelemetry-instrumentation==0.47b0->opentelemetry-instrumentation-fastapi>=0.41b0->chromadb) (71.0.4)\n",
            "Requirement already satisfied: wrapt<2.0.0,>=1.0.0 in /usr/local/lib/python3.10/dist-packages (from opentelemetry-instrumentation==0.47b0->opentelemetry-instrumentation-fastapi>=0.41b0->chromadb) (1.16.0)\n",
            "Collecting asgiref~=3.0 (from opentelemetry-instrumentation-asgi==0.47b0->opentelemetry-instrumentation-fastapi>=0.41b0->chromadb)\n",
            "  Downloading asgiref-3.8.1-py3-none-any.whl.metadata (9.3 kB)\n",
            "Collecting monotonic>=1.5 (from posthog>=2.4.0->chromadb)\n",
            "  Downloading monotonic-1.6-py2.py3-none-any.whl.metadata (1.5 kB)\n",
            "Collecting backoff>=1.10.0 (from posthog>=2.4.0->chromadb)\n",
            "  Downloading backoff-2.2.1-py3-none-any.whl.metadata (14 kB)\n",
            "Requirement already satisfied: annotated-types>=0.4.0 in /usr/local/lib/python3.10/dist-packages (from pydantic>=1.9->chromadb) (0.7.0)\n",
            "Requirement already satisfied: pydantic-core==2.20.1 in /usr/local/lib/python3.10/dist-packages (from pydantic>=1.9->chromadb) (2.20.1)\n",
            "Requirement already satisfied: huggingface-hub<1.0,>=0.16.4 in /usr/local/lib/python3.10/dist-packages (from tokenizers>=0.13.2->chromadb) (0.23.5)\n",
            "Requirement already satisfied: click>=8.0.0 in /usr/local/lib/python3.10/dist-packages (from typer>=0.9.0->chromadb) (8.1.7)\n",
            "Requirement already satisfied: shellingham>=1.3.0 in /usr/local/lib/python3.10/dist-packages (from typer>=0.9.0->chromadb) (1.5.4)\n",
            "Requirement already satisfied: rich>=10.11.0 in /usr/local/lib/python3.10/dist-packages (from typer>=0.9.0->chromadb) (13.7.1)\n",
            "Collecting httptools>=0.5.0 (from uvicorn[standard]>=0.18.3->chromadb)\n",
            "  Downloading httptools-0.6.1-cp310-cp310-manylinux_2_5_x86_64.manylinux1_x86_64.manylinux_2_17_x86_64.manylinux2014_x86_64.whl.metadata (3.6 kB)\n",
            "Collecting python-dotenv>=0.13 (from uvicorn[standard]>=0.18.3->chromadb)\n",
            "  Downloading python_dotenv-1.0.1-py3-none-any.whl.metadata (23 kB)\n",
            "Collecting uvloop!=0.15.0,!=0.15.1,>=0.14.0 (from uvicorn[standard]>=0.18.3->chromadb)\n",
            "  Downloading uvloop-0.19.0-cp310-cp310-manylinux_2_17_x86_64.manylinux2014_x86_64.whl.metadata (4.9 kB)\n",
            "Collecting watchfiles>=0.13 (from uvicorn[standard]>=0.18.3->chromadb)\n",
            "  Downloading watchfiles-0.22.0-cp310-cp310-manylinux_2_17_x86_64.manylinux2014_x86_64.whl.metadata (4.9 kB)\n",
            "Collecting websockets>=10.4 (from uvicorn[standard]>=0.18.3->chromadb)\n",
            "  Downloading websockets-12.0-cp310-cp310-manylinux_2_5_x86_64.manylinux1_x86_64.manylinux_2_17_x86_64.manylinux2014_x86_64.whl.metadata (6.6 kB)\n",
            "Requirement already satisfied: cachetools<6.0,>=2.0.0 in /usr/local/lib/python3.10/dist-packages (from google-auth>=1.0.1->kubernetes>=28.1.0->chromadb) (5.4.0)\n",
            "Requirement already satisfied: pyasn1-modules>=0.2.1 in /usr/local/lib/python3.10/dist-packages (from google-auth>=1.0.1->kubernetes>=28.1.0->chromadb) (0.4.0)\n",
            "Requirement already satisfied: rsa<5,>=3.1.4 in /usr/local/lib/python3.10/dist-packages (from google-auth>=1.0.1->kubernetes>=28.1.0->chromadb) (4.9)\n",
            "Requirement already satisfied: filelock in /usr/local/lib/python3.10/dist-packages (from huggingface-hub<1.0,>=0.16.4->tokenizers>=0.13.2->chromadb) (3.15.4)\n",
            "Requirement already satisfied: fsspec>=2023.5.0 in /usr/local/lib/python3.10/dist-packages (from huggingface-hub<1.0,>=0.16.4->tokenizers>=0.13.2->chromadb) (2024.6.1)\n",
            "Requirement already satisfied: zipp>=0.5 in /usr/local/lib/python3.10/dist-packages (from importlib-metadata<=8.0.0,>=6.0->opentelemetry-api>=1.2.0->chromadb) (3.19.2)\n",
            "Requirement already satisfied: charset-normalizer<4,>=2 in /usr/local/lib/python3.10/dist-packages (from requests->kubernetes>=28.1.0->chromadb) (3.3.2)\n",
            "Requirement already satisfied: markdown-it-py>=2.2.0 in /usr/local/lib/python3.10/dist-packages (from rich>=10.11.0->typer>=0.9.0->chromadb) (3.0.0)\n",
            "Requirement already satisfied: pygments<3.0.0,>=2.13.0 in /usr/local/lib/python3.10/dist-packages (from rich>=10.11.0->typer>=0.9.0->chromadb) (2.16.1)\n",
            "Requirement already satisfied: exceptiongroup in /usr/local/lib/python3.10/dist-packages (from anyio->httpx>=0.27.0->chromadb) (1.2.2)\n",
            "Collecting humanfriendly>=9.1 (from coloredlogs->onnxruntime>=1.14.1->chromadb)\n",
            "  Downloading humanfriendly-10.0-py2.py3-none-any.whl.metadata (9.2 kB)\n",
            "Requirement already satisfied: mpmath<1.4,>=1.1.0 in /usr/local/lib/python3.10/dist-packages (from sympy->onnxruntime>=1.14.1->chromadb) (1.3.0)\n",
            "Requirement already satisfied: mdurl~=0.1 in /usr/local/lib/python3.10/dist-packages (from markdown-it-py>=2.2.0->rich>=10.11.0->typer>=0.9.0->chromadb) (0.1.2)\n",
            "Requirement already satisfied: pyasn1<0.7.0,>=0.4.6 in /usr/local/lib/python3.10/dist-packages (from pyasn1-modules>=0.2.1->google-auth>=1.0.1->kubernetes>=28.1.0->chromadb) (0.6.0)\n",
            "Downloading chromadb-0.5.5-py3-none-any.whl (584 kB)\n",
            "\u001b[2K   \u001b[90m━━━━━━━━━━━━━━━━━━━━━━━━━━━━━━━━━━━━━━━━\u001b[0m \u001b[32m584.3/584.3 kB\u001b[0m \u001b[31m14.2 MB/s\u001b[0m eta \u001b[36m0:00:00\u001b[0m\n",
            "\u001b[?25hDownloading chroma_hnswlib-0.7.6-cp310-cp310-manylinux_2_17_x86_64.manylinux2014_x86_64.whl (2.4 MB)\n",
            "\u001b[2K   \u001b[90m━━━━━━━━━━━━━━━━━━━━━━━━━━━━━━━━━━━━━━━━\u001b[0m \u001b[32m2.4/2.4 MB\u001b[0m \u001b[31m45.7 MB/s\u001b[0m eta \u001b[36m0:00:00\u001b[0m\n",
            "\u001b[?25hDownloading bcrypt-4.2.0-cp39-abi3-manylinux_2_28_x86_64.whl (273 kB)\n",
            "\u001b[2K   \u001b[90m━━━━━━━━━━━━━━━━━━━━━━━━━━━━━━━━━━━━━━━━\u001b[0m \u001b[32m273.8/273.8 kB\u001b[0m \u001b[31m17.2 MB/s\u001b[0m eta \u001b[36m0:00:00\u001b[0m\n",
            "\u001b[?25hDownloading fastapi-0.112.0-py3-none-any.whl (93 kB)\n",
            "\u001b[2K   \u001b[90m━━━━━━━━━━━━━━━━━━━━━━━━━━━━━━━━━━━━━━━━\u001b[0m \u001b[32m93.1/93.1 kB\u001b[0m \u001b[31m6.8 MB/s\u001b[0m eta \u001b[36m0:00:00\u001b[0m\n",
            "\u001b[?25hDownloading kubernetes-30.1.0-py2.py3-none-any.whl (1.7 MB)\n",
            "\u001b[2K   \u001b[90m━━━━━━━━━━━━━━━━━━━━━━━━━━━━━━━━━━━━━━━━\u001b[0m \u001b[32m1.7/1.7 MB\u001b[0m \u001b[31m56.8 MB/s\u001b[0m eta \u001b[36m0:00:00\u001b[0m\n",
            "\u001b[?25hDownloading mmh3-4.1.0-cp310-cp310-manylinux_2_5_x86_64.manylinux1_x86_64.manylinux_2_17_x86_64.manylinux2014_x86_64.whl (67 kB)\n",
            "\u001b[2K   \u001b[90m━━━━━━━━━━━━━━━━━━━━━━━━━━━━━━━━━━━━━━━━\u001b[0m \u001b[32m67.6/67.6 kB\u001b[0m \u001b[31m4.5 MB/s\u001b[0m eta \u001b[36m0:00:00\u001b[0m\n",
            "\u001b[?25hDownloading onnxruntime-1.18.1-cp310-cp310-manylinux_2_27_x86_64.manylinux_2_28_x86_64.whl (6.8 MB)\n",
            "\u001b[2K   \u001b[90m━━━━━━━━━━━━━━━━━━━━━━━━━━━━━━━━━━━━━━━━\u001b[0m \u001b[32m6.8/6.8 MB\u001b[0m \u001b[31m82.4 MB/s\u001b[0m eta \u001b[36m0:00:00\u001b[0m\n",
            "\u001b[?25hDownloading opentelemetry_api-1.26.0-py3-none-any.whl (61 kB)\n",
            "\u001b[2K   \u001b[90m━━━━━━━━━━━━━━━━━━━━━━━━━━━━━━━━━━━━━━━━\u001b[0m \u001b[32m61.5/61.5 kB\u001b[0m \u001b[31m2.5 MB/s\u001b[0m eta \u001b[36m0:00:00\u001b[0m\n",
            "\u001b[?25hDownloading opentelemetry_exporter_otlp_proto_grpc-1.26.0-py3-none-any.whl (18 kB)\n",
            "Downloading opentelemetry_exporter_otlp_proto_common-1.26.0-py3-none-any.whl (17 kB)\n",
            "Downloading opentelemetry_proto-1.26.0-py3-none-any.whl (52 kB)\n",
            "\u001b[2K   \u001b[90m━━━━━━━━━━━━━━━━━━━━━━━━━━━━━━━━━━━━━━━━\u001b[0m \u001b[32m52.5/52.5 kB\u001b[0m \u001b[31m3.3 MB/s\u001b[0m eta \u001b[36m0:00:00\u001b[0m\n",
            "\u001b[?25hDownloading opentelemetry_instrumentation_fastapi-0.47b0-py3-none-any.whl (11 kB)\n",
            "Downloading opentelemetry_instrumentation-0.47b0-py3-none-any.whl (29 kB)\n",
            "Downloading opentelemetry_instrumentation_asgi-0.47b0-py3-none-any.whl (15 kB)\n",
            "Downloading opentelemetry_semantic_conventions-0.47b0-py3-none-any.whl (138 kB)\n",
            "\u001b[2K   \u001b[90m━━━━━━━━━━━━━━━━━━━━━━━━━━━━━━━━━━━━━━━━\u001b[0m \u001b[32m138.0/138.0 kB\u001b[0m \u001b[31m8.8 MB/s\u001b[0m eta \u001b[36m0:00:00\u001b[0m\n",
            "\u001b[?25hDownloading opentelemetry_util_http-0.47b0-py3-none-any.whl (6.9 kB)\n",
            "Downloading opentelemetry_sdk-1.26.0-py3-none-any.whl (109 kB)\n",
            "\u001b[2K   \u001b[90m━━━━━━━━━━━━━━━━━━━━━━━━━━━━━━━━━━━━━━━━\u001b[0m \u001b[32m109.5/109.5 kB\u001b[0m \u001b[31m7.0 MB/s\u001b[0m eta \u001b[36m0:00:00\u001b[0m\n",
            "\u001b[?25hDownloading overrides-7.7.0-py3-none-any.whl (17 kB)\n",
            "Downloading posthog-3.5.0-py2.py3-none-any.whl (41 kB)\n",
            "\u001b[2K   \u001b[90m━━━━━━━━━━━━━━━━━━━━━━━━━━━━━━━━━━━━━━━━\u001b[0m \u001b[32m41.3/41.3 kB\u001b[0m \u001b[31m2.4 MB/s\u001b[0m eta \u001b[36m0:00:00\u001b[0m\n",
            "\u001b[?25hDownloading uvicorn-0.30.5-py3-none-any.whl (62 kB)\n",
            "\u001b[2K   \u001b[90m━━━━━━━━━━━━━━━━━━━━━━━━━━━━━━━━━━━━━━━━\u001b[0m \u001b[32m62.8/62.8 kB\u001b[0m \u001b[31m4.0 MB/s\u001b[0m eta \u001b[36m0:00:00\u001b[0m\n",
            "\u001b[?25hDownloading backoff-2.2.1-py3-none-any.whl (15 kB)\n",
            "Downloading Deprecated-1.2.14-py2.py3-none-any.whl (9.6 kB)\n",
            "Downloading httptools-0.6.1-cp310-cp310-manylinux_2_5_x86_64.manylinux1_x86_64.manylinux_2_17_x86_64.manylinux2014_x86_64.whl (341 kB)\n",
            "\u001b[2K   \u001b[90m━━━━━━━━━━━━━━━━━━━━━━━━━━━━━━━━━━━━━━━━\u001b[0m \u001b[32m341.4/341.4 kB\u001b[0m \u001b[31m20.0 MB/s\u001b[0m eta \u001b[36m0:00:00\u001b[0m\n",
            "\u001b[?25hDownloading importlib_metadata-8.0.0-py3-none-any.whl (24 kB)\n",
            "Downloading monotonic-1.6-py2.py3-none-any.whl (8.2 kB)\n",
            "Downloading python_dotenv-1.0.1-py3-none-any.whl (19 kB)\n",
            "Downloading starlette-0.37.2-py3-none-any.whl (71 kB)\n",
            "\u001b[2K   \u001b[90m━━━━━━━━━━━━━━━━━━━━━━━━━━━━━━━━━━━━━━━━\u001b[0m \u001b[32m71.9/71.9 kB\u001b[0m \u001b[31m5.1 MB/s\u001b[0m eta \u001b[36m0:00:00\u001b[0m\n",
            "\u001b[?25hDownloading uvloop-0.19.0-cp310-cp310-manylinux_2_17_x86_64.manylinux2014_x86_64.whl (3.4 MB)\n",
            "\u001b[2K   \u001b[90m━━━━━━━━━━━━━━━━━━━━━━━━━━━━━━━━━━━━━━━━\u001b[0m \u001b[32m3.4/3.4 MB\u001b[0m \u001b[31m81.6 MB/s\u001b[0m eta \u001b[36m0:00:00\u001b[0m\n",
            "\u001b[?25hDownloading watchfiles-0.22.0-cp310-cp310-manylinux_2_17_x86_64.manylinux2014_x86_64.whl (1.2 MB)\n",
            "\u001b[2K   \u001b[90m━━━━━━━━━━━━━━━━━━━━━━━━━━━━━━━━━━━━━━━━\u001b[0m \u001b[32m1.2/1.2 MB\u001b[0m \u001b[31m45.7 MB/s\u001b[0m eta \u001b[36m0:00:00\u001b[0m\n",
            "\u001b[?25hDownloading websockets-12.0-cp310-cp310-manylinux_2_5_x86_64.manylinux1_x86_64.manylinux_2_17_x86_64.manylinux2014_x86_64.whl (130 kB)\n",
            "\u001b[2K   \u001b[90m━━━━━━━━━━━━━━━━━━━━━━━━━━━━━━━━━━━━━━━━\u001b[0m \u001b[32m130.2/130.2 kB\u001b[0m \u001b[31m8.1 MB/s\u001b[0m eta \u001b[36m0:00:00\u001b[0m\n",
            "\u001b[?25hDownloading coloredlogs-15.0.1-py2.py3-none-any.whl (46 kB)\n",
            "\u001b[2K   \u001b[90m━━━━━━━━━━━━━━━━━━━━━━━━━━━━━━━━━━━━━━━━\u001b[0m \u001b[32m46.0/46.0 kB\u001b[0m \u001b[31m2.9 MB/s\u001b[0m eta \u001b[36m0:00:00\u001b[0m\n",
            "\u001b[?25hDownloading asgiref-3.8.1-py3-none-any.whl (23 kB)\n",
            "Downloading humanfriendly-10.0-py2.py3-none-any.whl (86 kB)\n",
            "\u001b[2K   \u001b[90m━━━━━━━━━━━━━━━━━━━━━━━━━━━━━━━━━━━━━━━━\u001b[0m \u001b[32m86.8/86.8 kB\u001b[0m \u001b[31m5.9 MB/s\u001b[0m eta \u001b[36m0:00:00\u001b[0m\n",
            "\u001b[?25hBuilding wheels for collected packages: pypika\n",
            "  Building wheel for pypika (pyproject.toml) ... \u001b[?25l\u001b[?25hdone\n",
            "  Created wheel for pypika: filename=PyPika-0.48.9-py2.py3-none-any.whl size=53725 sha256=be3db267b3ab71315664ad0ed8a753df80ac4f10a816e18a090943efd5288377\n",
            "  Stored in directory: /root/.cache/pip/wheels/e1/26/51/d0bffb3d2fd82256676d7ad3003faea3bd6dddc9577af665f4\n",
            "Successfully built pypika\n",
            "Installing collected packages: pypika, monotonic, mmh3, websockets, uvloop, uvicorn, python-dotenv, overrides, opentelemetry-util-http, opentelemetry-proto, importlib-metadata, humanfriendly, httptools, deprecated, chroma-hnswlib, bcrypt, backoff, asgiref, watchfiles, starlette, posthog, opentelemetry-exporter-otlp-proto-common, opentelemetry-api, coloredlogs, opentelemetry-semantic-conventions, opentelemetry-instrumentation, onnxruntime, kubernetes, fastapi, opentelemetry-sdk, opentelemetry-instrumentation-asgi, opentelemetry-instrumentation-fastapi, opentelemetry-exporter-otlp-proto-grpc, chromadb\n",
            "  Attempting uninstall: importlib-metadata\n",
            "    Found existing installation: importlib_metadata 8.2.0\n",
            "    Uninstalling importlib_metadata-8.2.0:\n",
            "      Successfully uninstalled importlib_metadata-8.2.0\n",
            "Successfully installed asgiref-3.8.1 backoff-2.2.1 bcrypt-4.2.0 chroma-hnswlib-0.7.6 chromadb-0.5.5 coloredlogs-15.0.1 deprecated-1.2.14 fastapi-0.112.0 httptools-0.6.1 humanfriendly-10.0 importlib-metadata-8.0.0 kubernetes-30.1.0 mmh3-4.1.0 monotonic-1.6 onnxruntime-1.18.1 opentelemetry-api-1.26.0 opentelemetry-exporter-otlp-proto-common-1.26.0 opentelemetry-exporter-otlp-proto-grpc-1.26.0 opentelemetry-instrumentation-0.47b0 opentelemetry-instrumentation-asgi-0.47b0 opentelemetry-instrumentation-fastapi-0.47b0 opentelemetry-proto-1.26.0 opentelemetry-sdk-1.26.0 opentelemetry-semantic-conventions-0.47b0 opentelemetry-util-http-0.47b0 overrides-7.7.0 posthog-3.5.0 pypika-0.48.9 python-dotenv-1.0.1 starlette-0.37.2 uvicorn-0.30.5 uvloop-0.19.0 watchfiles-0.22.0 websockets-12.0\n"
          ]
        }
      ],
      "source": [
        "!pip install langchain\n",
        "!pip install openai\n",
        "!pip install PyPDF2\n",
        "!pip install faiss-cpu\n",
        "!pip install tiktoken\n",
        "!pip install -U langchain-community\n",
        "!pip install chromadb"
      ]
    },
    {
      "cell_type": "markdown",
      "metadata": {
        "id": "DWFTDHy3RIO2"
      },
      "source": [
        "# Import Libraries"
      ]
    },
    {
      "cell_type": "code",
      "execution_count": null,
      "metadata": {
        "id": "uMSjHWxyQ-3H"
      },
      "outputs": [],
      "source": [
        "from PyPDF2 import PdfReader\n",
        "from langchain.embeddings.openai import OpenAIEmbeddings\n",
        "from langchain.text_splitter import CharacterTextSplitter\n",
        "from langchain.vectorstores import FAISS\n",
        "from langchain.text_splitter import RecursiveCharacterTextSplitter\n",
        "from langchain.chains.question_answering import load_qa_chain\n",
        "from langchain.llms import OpenAI\n",
        "from langchain.chains import ConversationalRetrievalChain, LLMChain, StuffDocumentsChain\n",
        "from langchain.vectorstores import Chroma\n",
        "from langchain.prompts import PromptTemplate\n",
        "from typing_extensions import Concatenate"
      ]
    },
    {
      "cell_type": "code",
      "execution_count": null,
      "metadata": {
        "id": "5Iy_z1G9Rs0Q"
      },
      "outputs": [],
      "source": [
        "#Load pdf\n",
        "\n",
        "pdfreader = PdfReader('/path/to.pdf')\n",
        "\n",
        "##If you are using drive\n",
        "\n",
        "# from google.colab import drive\n",
        "# drive.mount('/content/drive')\n",
        "# pdfreader = PdfReader('/path/to/file.pdf')"
      ]
    },
    {
      "cell_type": "code",
      "execution_count": null,
      "metadata": {
        "id": "6xrSJZ14SJcS"
      },
      "outputs": [],
      "source": [
        "# read text from pdf\n",
        "raw_text = ''\n",
        "for i, page in enumerate(pdfreader.pages):\n",
        "    content = page.extract_text()\n",
        "    if content:\n",
        "        raw_text += content"
      ]
    },
    {
      "cell_type": "code",
      "execution_count": null,
      "metadata": {
        "colab": {
          "base_uri": "https://localhost:8080/",
          "height": 162
        },
        "id": "nb60U3c7SuTH",
        "outputId": "99276d7e-bddc-43c6-c480-15d28bc7316e"
      },
      "outputs": [
        {
          "data": {
            "application/vnd.google.colaboratory.intrinsic+json": {
              "type": "string"
            },
            "text/plain": [
              "' \\n \\nPart 3 – DrillsFront shoulder opens up too quickly (trouble reaching the outside pitch) Drills: 2, 3, 8, 15  Uppercut - Drills: 4, 6, 7, 8, 13, 14Wrists roll over too quickly (Hitting too many weak ground balls to pull side) - Drills: 2, 3, 4, 5, 7, 8, 9, 10, 13, 14, 15, 18, 20Inconsistent hand path (Not hitting many balls on the barrel) - Drills: 1, 4, 8, 9, 10, 12, 17, 19Backside collapses or not getting on back toe at contact (Fouling good pitches straight back); not getting to 50/50 weight distribution - Drills: 3, 5, 6, 7, 8, 9, 13, 14Weak swing (i.e. Looking to hit with more power/bat speed) - Drills: 2, 3, 7, 9, 11, 16, 20Too stiff (no rhythm) - Drills: 6, 9, 10, 18, 19Strike zone judgment - Drills: 1, 12, 13Too many swing and misses Drills: 1, 2, 4, 8, 9, 15, 17, 19No separation at contact (Your hands come with you when you stride. They don’t stay back. Weak pop flies to the opposite field) - Drills: 3, 5, 7, 12, 17, 19Upper body dominant (Have trouble with low pitch, don’t rotate back foot, or can’t stay balanced at follow-through. Not using legs properly) - Drills: 5, 7, 9, 11, 16, 20Getting around the baseball or not staying inside the ball (Hooking or top-spin line drives) - Drills: 3, 4, 7, 8, 10, 13, 15Too many pop-ups (may be caused by uppercut or losing the barrel) - Drills: 3, 4, 6, 9, 10Unknown problem (These drills either isolate or give instant feedback, which is helpful for diagnosing a swing problem) - Drills: 2, 3, 4, 5, 9, 19, 20\\nOnce the form is submitted, you will receive instant access to all 20 videos – one for each drill in this book.1 - Regular Tee DrillWhy did I include the Regular Tee Drill in this book? Obviously, it’s not going to be new to anyone. There are 3 reasons I felt it was important to include in this book:1A reminder to not underestimate the importance of this drill. Too many players and coaches are always looking for the latest hitting drill, thinking there is a “magic bullet” out there if only they can find it. However, the reality is that simple, classic drills like this one are used every day by Major League players such as Derek Jeter and Albert Pujols. The reason legendary hitters like these guys still use drills like the Regular Tee Drill is because THEY WORK – if done properly. 2This is a batting drill you will likely use for the entire length of your baseball career, so I wanted to provide a few tips for getting the most out of this drill. 3To lay out some foundational ideas that apply to ALL the drills in this book. SummaryAs we discussed earlier, being able to repeat your swing is what separates good from great hitters. It seems like an easy concept but it is very difficult to do. The purpose of this drill is to perfect your swing and repeat it over and over until you can take your adjustments into live batting practice and eventually the game.Hitting off a tee can be used as a warm-up, or as a drill in itself. Either way, it is important to always have a plan when using a tee. It’s a great way to get your swing grooved and ready for batting practice or a game.PurposeI love hitting off a tee because it allows me to control the pace of my swing. Even though this is always our goal when you face a pitcher, he can sometimes dictate the effort level and pace of our swing. A tee allows us to slow things down, get back to basics, and focus on making every swing perfect every time. We can work on pulling a baseball, hitting it the other way. Practice hitting high and low pitches as well as focus on mechanics. Using a tee is a great way to see the spin of the ball off the bat. You can practice your strengths and work to improve on your weaknesses.Equipment● Batting TeeHow to Execute this Drill1Setup: Always start by addressing home plate where you feel comfortable. Keep the same distance away from the plate so when you move the tee around you will be able to work on pitches you need to be able to hit in games. 2Practice hitting the outside pitch: When working on hitting the outside pitch you want the ball to travel deeper in the hitting zone so you can take the same swing on an outside pitch as you would an inside pitch. Place the tee a little further back from where you would place it on a pitch down the middle. See how deep you can place the tee to hit the ball the other way. You can start by putting the tee in line with your stomach and then back it up so it’s even with your back foot. This is an exaggerated depth, which is helpful because it will act as an indicator to show you how depth affects your swing. 3Practice for pitches down the middle: Usually for a pitch down the middle the tee should be placed somewhere between where your front foot and stomach end up after you stride. This depth is where you would like to try to hit every pitch that comes down the middle of the plate. 4Practice hitting the inside pitch: On inside pitches, move the tee in and toward the pitcher by a few inches. You want to make contact with the ball inside a little earlier so your barrel can make contact with the ball without compromising your hands and body positioning. If the inside pitch gets too deep, that’s when you get jammed and you won’t be able to put your strongest swing on the ball. CheckpointsCheckpoints for the regular tee drill are to:1Have a plan. You are working on whatever it is that you need to work on. 2Be sure the result is that you are hitting line drives. It’s pretty simple. The tee can be one of the greatest hitting aids you will ever use if you learn to use it properly.2 - Top Hand, Short Bat DrillSummaryThis drill can help you discover a weakness in your swing you didn’t know about by showing if the top hand is working like it should; or help to fix a swing that is bottom-hand dominant. If you are bottom-hand dominant, this drill will help you (1) develop more power/bat speed; and (2) develop a better bat path resulting in fewer swing-and-misses.To be able to hit a line drive, you must be in a strong palm-up position at contact. If you are not doing this successfully, then you will not be able to hit line drives during this exercise. (Note: One-handed drills are not recommended for young players, as they may develop bad habits due to lack of strength needed to maintain proper form.)\\nPurposeIsolating your top hand uncovers weaknesses that you may not recognize when using two hands. Just like lifting weights, if we always use the barbell to bench press, our strong arm takes control. Using dumbbells will make both arms strong. It is the same with hitting.Your strong hand often takes over during your swing. When you isolate your top hand, you will be able to find the strongest spot from which to fire; exactly how your swing path tracks; and how strong or weak you are compared to your other hand. Being the power hand, your top hand should work as long as possible facing up and not rolling over until it releases.The top-hand drill can be humbling at first. But over time you will notice the ball jumping off your bat better and better. Feeling the top hand work individually and getting more proficient with it will definitely make your normal swing better, seem easier, and definitely more powerful. Just by doing this drill, your top hand will get stronger.Equipment●  Batting Tee ●  Short Bat How to Execute this Drill 1Setup: Set up the tee for a pitch down the middle of the plate and place a ball on the tee. Start with both hands on the bat and get in your stance. 2Remove bottom hand: Take your bottom hand off the bat and keep it close to your body, positioned against your chest bone. 3Top hand position: Don’t move your top hand’s place on the bat. Stay choked up, since this is where your hand is normally on a baseball bat. In this drill, use your top hand and legs. 4Swing: Feel your top hand working down through the baseball while you work to hit line drives to the back of the cage. CheckpointsYou know you are doing this drill properly if you can:1Swing the bat while keeping your bottom hand still: You may notice a tendency to swing that arm for momentum. This is a no-no. Let your top hand do all the work. 2Keep your back elbow tucked close to your body: Also known as \"in the slot.\" 3Avoid rolling your wrist too quickly: This will result in a ground ball to the pull side. This drill works well to help you fight that negative tendency. 4Avoid dipping your backside: Fight to avoid swinging up and creating lift. These movements will not work when you need to catch up to a fastball. 5Hit line drives: The biggest indicator as to whether you are doing this drill properly is results. When you start to see line drives up the middle, it indicates that you are successfully hitting with your top-hand palm up through the hitting zone. Once you get that feel and see those line drives, your swing is getting grooved.3 - Bottom-Hand, Short Bat DrillSummaryThe purpose of the bottom-hand, short-bat drill is to isolate your bottom hand so you can have an understanding of how it should work in your swing. Using the bottom hand independently will make it stronger and will make your two-hand swing more efficient and powerful.If you have difficulty with this drill at first, it means this is exactly the drill you should be working on. Strengthening your bottom hand can help to fix problems like rolling your wrists over too early (which causes you to hit ground balls or pull foul too often) and too many swings-and-misses (caused by an over-active top hand pulling the bat out of the zone too soon).PurposeAs I talked about in the previous drill, when you lift weights, it is important to isolate individual limbs so they can independently get strong. The same idea is true with the baseball swing.When you develop the proper feel for your bottom hand and can hit line drives, it will be easier to do with two hands. The pulling action of your bottom hand is what starts your pull to the baseball. Since most people are top-hand dominant (since it is usually the throwing hand), we tend to take over our swing too early with that top hand.Being familiar with the role of your bottom hand will help you better understand your swing as a whole and will help you recognize when adjustments are needed.This drill takes out all the unnecessary movements of your swing. With one hand, you are not strong enough to be anything but efficient, so it will help shorten your swing. Once you can feel strong with one hand, swinging with two should be no problem.Equipment●  Batting Tee ●  Short Bat How to Execute this Drill 1Setup: Set up the tee for a pitch down the middle of the plate. Place a ball on the tee. Start with both hands on the bat and get in your stance. 2Remove top hand: Take your top hand off the bat and keep it close to your body, positioned against your chest bone. \\n3. Swing using your bottom hand and legs: Keep your top hand still. The tendency is to swing your arm to get some momentum. Avoid this tendency and be deliberate about making your bottom hand do all the work.Checkpoints1Swing down through the ball: Make sure you don’t dip your backside and swing up through the baseball. 2Keep your front elbow down: Do not lift your front elbow dragging your barrel trying to get lift. You will feel the difference. Remember you need to swing down in the game, so swinging up during this drill will do nothing for your two-handed swing. 3Feel the front side pulling to start your swing: Feel the torque you can create with your front side. 4Hit line drives: The biggest indicator of doing this drill properly is results. Hitting line drives up the middle indicates that you are successfully hitting with your bottom hand. 4 - High Tee DrillSummaryHitting too many pop flies? Want to hit more powerful line drives? Trouble with pitches up in the zone? This is a great drill to help with these things, and it’s one you’ll want to keep in your tool box throughout your baseball career.It can be particularly difficult to hit down on the baseball on a high pitch. The tendency is to swing up to the baseball, which translates into a pop-up or a miss in the game because of the added velocity. If you normally collapse your backside, this drill will help you stay strong and tall on your back leg.This drill is also great for working on putting proper backspin on the baseball. When you swing down on the ball, you create backspin, making the ball travel further. This is much more difficult to do on a high pitch. This drill forces good habits on a tough pitch, making you less likely to miss those few good pitches you get in the games.PurposeAs you start facing pitchers that have good velocity (90 mph+), this posture of being strong and tall on your back leg is very important. It is easy to get by with sub-par mechanics when a pitcher isn’t throwing hard, but as the velocity kicks up, you need to have better mechanics.It is a natural tendency to swing up at a high pitch. When we do this, if we hit the ball, it is usually a weak fly ball somewhere. This drill will force you, by using your legs, to get on top of the ball and hit a hard line drive.\\nStatistically, most swing and misses are below the ball on fastballs, so this is an important drill for helping us to make contact more consistently and with better outcomes.Equipment●  Batting Tee ●  Bucket or Chair (Needed ONLY IF your batting tee won’t extend up to chest level) How to Execute this Drill 1Setup: Set the tee up for a pitch down the middle of the plate. Now raise the tee to its highest point. You want it to be somewhere between your chest and chin height. If the tee doesn’t allow you to raise it this high, place the tee on a bucket or chair to get the ideal height for this drill. 2Swing: Take this high pitch and hit a line drive head height to the back of the cage. CheckpointsIf you can get the ball to travel 40-70 feet in the air at the same height it was set up on the tee, you accomplished the goal of the drill. Being able to do this makes you get on top of the baseball and to create the perfect line drive you need to get great backspin.5 - Net Tee DrillSummaryThis drill is useful for shortening your hand path to the baseball by keeping your hands close to your body and forcing you to stay inside the ball. This will eliminate casting your barrel and force you to stay tight and compact, which makes for a more efficient swing. In other words, this drill will help develop power (through better bat speed AND putting proper backspin on the baseball) and will also help if you are experiencing too many swings-and-misses or fouling good pitches back.Benefits of This Drill1. More Power: If you are not hitting hard line drives as consistently as you would like (such as too many hooking line drives that don’t have the distance they should), it is probably because you are not getting the proper backspin on the baseball. This drill will help you attack the inside part of the ball, which is the only way to create that backspin. Just to be clear, hitting the inside of the baseball does NOT necessarily mean hitting the ball the other way. The hooking line drives are caused by getting out and around the baseball (i.e., casting your barrel) and creating sidespin by hitting the outside part of the ball. The benefit of putting proper backspin on the baseball is that it will travel further.Bat speed is another critical aspect of power. The shorter the distance of your hand path,\\nthe tighter the axis of rotation will be. This results in greater leverage and acceleration of the bat (i.e., bat speed). A long, inefficient swing loses bat speed and therefore results in less power. This drill causes you to shorten your hand path to the baseball for maximum bat speed.2Better Bat Path: Weak ground balls or choppers to the pull side are usually caused by a poor path to the baseball. There is a tendency to swing around the baseball instead of staying inside it and driving through it. This drill is needed because it will shorten your swing by helping you stay tight with your hands to your body and removing unnecessary movement. All of this benefits you by making your rotation to the ball quicker. This will give you that better path to the ball. 3More Time to See the Pitch: Another benefit of a good bat path is that you gain a few more precious milliseconds to see the ball before starting your swing. If your swing is shorter, faster, more efficient, then you will have a little more time to see the ball – giving you more time to identify the pitch and react appropriately. 4Teaches Pulling the Ball Correctly: This drill is also great for teaching players to pull the ball correctly. Many hitters, when pulling a baseball, get their hands away from their body and get around the ball with their barrel, this promotes ground balls and hooking fly balls, both of which are not ideal. This drill shows you how to stay inside and drive the ball to the pull side with backspin. As you will find out, staying tight with your swing is what you are trying to accomplish every time. This drill will help you accomplish that feel. Equipment●  Batting Tee ●  Batting Cage Net (You could use a fence but if and when you hit the fence it will ding up your bat and it may hurt wrists depending on how hard you hit it.) How to Execute this Drill 1Position Yourself: From your normal spot in the batting cage, walk forward until you’re 30-35 inches from the net. You can measure by placing the knob of your bat so it\\'s touching your stomach and the end of your bat is barely grazing the net. 2Set the Tee: Once you have set your distance from the net, place the tee where it feels comfortable - without backing up from the net. 3Swing: Swing without hitting the net. It’s ok if you lightly graze the net, but if the net starts interfering with the swing, you know you need to get your hands more linear and inside. Checkpoints1Hit line drives up the middle to the pull side of the cage without hitting the net: When you are doing this consistently, you know your bat path is correct. 2Keep your hands close to your body: After you swing, check to make sure you are not falling away from the net. If you find yourself off balance after contact, it probably means you were cheating to avoid the net by leaning away during your swing. \\n6 - Step Through DrillSummaryThe Step Through Drill is useful if you feel stuck on your backside. This drill will help you feel the linear movement you need in your swing. It forces you to use your backside and legs together to finish on your back toe (or even slightly off the ground).This drill also helps you get to separation and feel your hands work. You will feel your body step away from your hands thus getting into a strong separation when your front foot hits the ground. Your hands will be back and you will feel tension in your front side.Purpose1Stay back: This drill helps you understand what “stay back” means without “squashing the bug.” It helps you rotate on your back leg and finish on your toe, while getting through or even off your backside. 2Develop rhythm: Hitting needs rhythm to keep us in motion. This drill helps develop that rhythm, keeping muscles tension-free and preventing crisis management mode where bulkier muscles take over. 3Achieve proper separation: This drill helps you feel your hands get back into a strong position, once your front foot hits the ground you will feel tension in your front oblique. Equipment● Batting TeeHow to Execute this Drill1Setup: Set the tee up for a pitch down the middle of the plate. Instead of getting in your normal stance, back up a foot or so (in the direction of the catcher). Face home plate. 2Step right: If you are a left-handed hitter, you’ll start by stepping with your left foot. Start by taking a step with your back foot and place it in the batter’s box in the same place you would dig in for an at-bat. Make sure your back foot is square to home plate. 3Step left: Now take your other leg and stride into a hitting position. 4Swing: Use the rhythm you have created with your legs to finish your swing. 5Follow-through: After you swing, your follow-through should allow for your back foot to either be off the ground or on its toe. VariationFor hitters that are still having trouble feeling the linear movement necessary in a swing, add this extra movement to the end of this drill. After you have made contact and are starting your follow-through, take your back knee and drive it up towards the pitcher. This exaggeratedmovement will force you to use your back leg with a linear movement and stay balanced while driving into your front leg.Checkpoints1Hit line drives up the middle. 2Back foot position: Check if your back foot was in the air or on its toe at contact. 3Chest position: Make sure you finish with your chest towards the pitcher; this will show you are getting off of your backside properly. 7 - Weighted Baseball or Softball DrillSummaryThis drill will help you hit through the baseball by using strong hip rotation and lower body power. It will ensure you are in a strong position at contact and will help increase strength in your hands and forearms.PurposeIt is very important to groove your swing not to just hit the baseball but to drive through the baseball. Driving through the ball with this drill encourages strong hip rotation and lower body explosion to hit the ball. This drill will help increase your power and explosion during your swing. It’s a good drill for getting your legs involved.This drill also makes sure you are in a strong hitting position at contact. When hitting a heavier object than a baseball, you will begin to feel the bat slow down or even recoil once you make contact. Through repetition, you will begin to find where you feel strongest with your base and hands, as well as finding out your strongest position in your swing. You will also get quite a workout with your forearms and hands. Once you go back to hitting a baseball, it will feel like a wiffle ball.Equipment●  Batting Tee ●  Weighted Baseballs or Softballs (they range from 9 oz. to 32 oz. A regular baseball is 5 oz.) How to Execute this Drill 1. Setup: Set up the tee for a pitch down the middle of the plate. Place the weighted softball or basketball on the tee and hit normally. This is a feel drill, that means that you will learn a lot about your swing through the repetition of this drill.\\nCheckpoints1Hit the weighted softball or basketball up the middle. Don’t try to do too much with the ball. 2Concentrate on hitting through the ball. Over time, you will feel stronger and will be able to see the results when you go back to hitting a baseball. 3Check hand position at contact: Just before you hit the ball, stop and check that your hands are in the palm up, palm down position. 8 – Two Ball, Two Tee DrillSummaryThis drill is helpful for hitters who are having trouble getting off their backside, spinning off the ball instead of driving through it, or pulling most pitches. If you swing and miss a lot or have trouble with the outside pitch, this is a great drill.PurposeThis drill helps with:1Hitting through the baseball: Teaching the hitter to not only hit the ball but focus on hitting two more invisible ones behind it. 2Keeping the bat in the zone longer: The bat path is improved by working the bat “long through the baseball.” Equipment● Two Batting TeesHow to Execute this Drill1Address home plate: Stand as you normally would in a game. Place the first tee for a pitch down the middle of the plate. 2Position second tee: Take the next tee and place it as close as possible to the first tee so it is a direct line between the first tee and the pitcher’s mound. 3Place balls: Place a ball on both tees. As a hitter, you are looking at the first tee with a ball on top. There will be a gap between the two tees close to the diameter of a baseball. 4Swing: Swing to hit both baseballs up the middle. Checkpoints\\nFeel is a very important part of this drill. The idea is to swing the bat and not only hit the first ball but take the barrel through the first ball, through the gap, and through the second ball. This is the feel we want when hitting the baseball during a regular at-bat.9 – 45 Degree Angle DrillSummaryThis drill helps to achieve optimal bat path and swing plane by getting the barrel of the bat in the zone early and properly. The earlier the bat can get into the hitting zone and on plane with the pitch, the better chance you will hit the baseball squarely with your barrel. Once you get better with this drill, you will see a noticeable difference in the way the ball jumps off the bat.PurposeThis drill helps with:1Getting the bat in the hitting zone early. 2Gaining barrel velocity behind the ball and hitting through it. 3Proper balance and being athletic in your legs. Equipment● Batting TeeHow to Execute this Drill1Tee placement: Put the tee on top and right in the middle of home plate. To make the drill easier, move the tee a few inches closer to the pitcher, and to make it more difficult, move the tee back towards the point of home plate. 2Stance: Place your bat on the ground so it is lined up with the angle of home plate from the outside corner to the point. This imaginary line is where your back foot should be. Make sure the angle of your foot is fully on this imaginary line. Now take your front foot and be square to your back foot. This angle should put you at a 45-degree angle to home plate. Instead of being squared up to the pitcher, you would be squared up to the shortstop (if you are right-handed). 3No stride: In this drill, you are not going to stride. So widen up your stance if you need to find your athletic base. 4Athletic base: To help find this position with your legs, you want to have flex in your front leg (about 60% of your body weight) as you start your swing. As you swing, your front leg will straighten out and be fully locked out at contact. If you have too much weight on your back leg as you start your swing, you will lose your athletic base as well as lose balance. \\n5Swing: As the swing happens, gain barrel velocity behind the ball and swing at the plane of a normal fastball coming into the hitting zone. This is your ideal swing path. 6Results: Try to hit the ball to the back of the batting cage. Make sure your effort level is low. Repeating this drill will help you feel your body and how to get the most out of your body throughout your swing. Checkpoints1Hit a line drive in the center back of the batting cage: If the ball is going to the opposite field side of the cage, you are not getting the barrel of your bat in the hitting zone early enough. 2Staying balanced: Staying balanced after you take a full swing means that you had proper weight distribution throughout the swing. If you are not balanced, try getting more weight into your front leg as you start your swing, but make sure your front leg locks out at contact. 10 – Separation DrillSummaryThis drill is helpful for someone dealing with balance problems, trouble with getting to ideal separation, and/or trouble achieving a level swing.PurposeThis drill helps with:1Balance: Helps you maintain proper balance throughout the swing. 2Separation: Ensures that you achieve the necessary separation during your swing. 3Level swing: Helps you maintain a level swing, which is crucial for making consistent contact. Equipment● Batting TeeHow to Execute this Drill1Set up the tee for a pitch down the middle of the plate. 2Stage 1 – Balance: Start in your normal batting stance, addressing home plate. Take your front foot and place it so it’s touching your back foot, both are square to home plate. 3Lift your front knee: With your bat resting on your back shoulder and your hands relaxed, gently lift your front knee like a pitcher and hold this position when the knee gets parallel with the ground. Hold this position for a second or two. \\n4Stage 2 – Separation: Take your leg that is raised and make a controlled stride to your normal stride length. At the same time, take your bat from resting on your back shoulder and move hands back away from your body. This should happen at the same time as you take your stride. This movement should feel like you are striding away from your hands, as a result, your head and body shouldn’t move forward much if at all. Once your front foot lands, make sure that your weight is evenly distributed 50/50 at this point. Hold this position for a second or two. 5Stage 3 – Level swing: The third stage is a direct result of the first two being done correctly. Start your swing without recoiling to get a little extra on your swing. Checkpoints1Balance: Check yourself after the “balance” stage to ensure you aren’t falling all over the place when you pick your knee up. 2Separation: Check yourself once you get to the “separation” stage to make sure your hands are back and your weight distribution is 50/50. 3Level swing: The goal is to be able to hit line drives and have the swing feel almost effortless. This should be the result after stage 3. 11 - Inside Tee DrillSummaryThis drill is NOT just meant to help you hit the inside pitch. The Inside Tee Drill helps players develop the proper form and bat path that will make you a better hitter for any type of pitch. It is designed to keep you inside the baseball by emphasizing the first movement of the swing.●  Perfect for those who are constantly out in front of off-speed pitches and hit most balls to the pull side. ●  Helps players who swing and miss more than they should by keeping the barrel in the hitting zone longer. You will start driving more balls in the opposite field gap and be able to pull off-speed pitches correctly with authority. Purpose The Inside Tee Drill ensures the initial move to the baseball is the same every time, no matter the pitch or location. This first movement is often called “getting your elbow in the slot.” Professional players use this drill before batting practice to warm up. It helps in: 1. Aggressively hitting fastballs to the opposite gap and establishing the position necessary to pull off-speed pitches.\\n2Reducing ground balls to the pull side by keeping inside the baseball. 3Achieving better backspin on the baseball. 4Improving mental approach and plate coverage. Equipment● Batting TeeHow to Execute this Drill1Address home plate: Stand as you normally would in a game. 2Position tee: Place the batting tee on the inside half of the plate. Shift the depth of the tee to where your front knee is after you take your stride. 3Swing: Take a normal swing and hit a line drive up the middle or to the opposite field. Checkpoints1Fight to stay inside the baseball. By over-exaggerating and fighting to stay inside the ball, you are teaching your body good movements towards a perfect swing. 2Fight to hit through the baseball with your body. Avoid recoiling your upper body to create more space; use your hands instead. 12 - Low Tee DrillSummaryThis drill is helpful for hitters who tend to hit choppers and weak ground balls to infielders. It forces you to use your legs in your swing and handle low pitches properly.Purpose1Use your legs: The Low Tee Drill forces you to use your legs, which is essential for hitting low pitches. 2Handle low pitches: Helps you hit low pitches the right way, using legs and dropping the barrel to the baseball. Equipment● Batting Tee (one that can get to about knee height)How to Execute this Drill1. Setup: Address home plate as you would in a game. Set the batting tee as low as possible for a pitch down the middle of the plate.\\n2. Swing: Place a ball on the tee and swing, getting low with your head and legs. Your arms should be bent and your elbow in the slot, not reaching.Checkpoints1Hit a line drive head height to the back of the cage. It may take time to get used to the drill. 2Avoid hitting ground balls or pop-ups by getting low and using your legs properly. 13 - Inside and Outside Tee DrillSummaryThis drill can help with strike zone awareness and gives confidence in handling both inside and outside pitches.PurposeImproves strike zone awareness and confidence in handling pitches. Once you know you have proper plate coverage, you can handle any strike.Equipment● Two Batting TeesSetup & Execution1Position yourself: Address home plate as you would in a game. 21st tee: Place the first tee on the inside corner of the zone, just outside where your front foot lands after your stride. 32nd tee: Place the second tee on the outside corner, somewhere between your stomach and front knee after you stride. Make sure the outside tee is a bit higher than the inside tee. 4Helper or alternate: Ideally, have someone help by saying “inside” or “outside” and then hit that corresponding ball. If alone, alternate between pitches after each swing. Checkpoints1Avoid cheating by stepping towards the outside pitch and away from the inside pitch. 2Look at the ball you are not going to hit during the pause to ensure you can handle each pitch. \\n \\n14 - Inverted Top Hand DrillSummaryThis drill is helpful for hitters with an overactive top hand. It teaches the bottom hand to take control and prevents the top hand from taking over too quickly.PurposeHelps hitters who pull a lot of hard foul balls due to an overactive top hand. The drill isolates the bottom hand and teaches it to work together with the top hand.Equipment● Batting TeeHow to Execute this Drill1Position tee: Set up the tee for a pitch down the middle of the plate. Address home plate as you would in a game. 2Narrow stance: Leave your back foot where it is and move your front foot so your stance is shoulder width and your feet are square to home plate. 3Invert your top hand: Take your grip on the bat, then take your top hand off and turn it upside down so your thumbs from your bottom and top hand are touching. 4Ready position – Top hand loose, elbow high: Your back elbow will be high, and your top hand is not fully wrapped around the handle. 5Swing and push with your top hand: Don’t grab the bat when you swing. Checkpoints●  Feel the bottom hand doing most of the work, keeping a nice bat path through the middle of the field. ●  Your top hand is loosely on the bat, only pushing. ●  Hit line drives to the back of the cage. 15 - Kick Back Drill Summary This drill focuses on keeping your front shoulder in when hitting. It also helps with weight transfer from your backside to your front side. Purpose \\n1Front shoulder: Keeps your front shoulder from pulling off the baseball, improving bat path and coverage. 2Weight transfer: Helps you transfer your weight from your backside to your front side properly. Equipment● Batting TeeHow to Execute this Drill1Set the tee up for a pitch down the middle of the plate. Take your stride as if you were going to hit the baseball. 2Kick back: Start your swing towards the baseball while taking your back leg and kicking it back (away from home plate). Checkpoints1Hit line drives up the middle and to the opposite field. 2Keep your front shoulder in longer and transfer your weight to your front side properly. 16 - Alternating Fungo and Heavy Bat DrillPurposeThis drill is not for fixing mechanical flaws but for improving overall strength and bat speed. Why this drill is needed1Build strength: Using a heavy bat builds strength in hands, forearms, and overall bat feel. 2Increase bat speed: Using a fungo bat improves bat speed by training fast-twitch muscles. Equipment●  Batting Tee ●  Heavy bat or hitting weights ●  Fungo bat How to Execute this Drill 1Setup: Set the tee up for a pitch down the middle of the plate. 2Use heavy bat: Warm up before swinging the heavy bat at full speed. Start with 25 swings. \\n3. Switch to fungo bat: Swing full speed for 25 repetitions, focusing on swinging quick, not hard.Checkpoints1Swing quick, not hard. 2Don’t overdo this drill. Moderate use is key. 3Pay attention to how your body feels after doing this drill a couple of times a week. 17 - One Knee DrillSummaryThis drill focuses on using your hands and developing hand/eye coordination. It also helps develop a proper bat path.Purpose1Develop hand/eye coordination: Critical for all hitters. 2Improve bat path: Helps keep the barrel in the ideal hitting zone longer. Equipment● Batting TeeHow to Execute this Drill1Setup the tee: As low as possible. 2Kneel: Get on your back knee and straighten your front leg. Ensure your front foot and back knee are in line with the pitcher. 3Tee positioning: Set the tee in line with your front knee. Move the tee around to practice different pitches. 4Swing: Focus on keeping your weight on the inside part of your back knee. Checkpoints1Hit a line drive up the middle or a nice one or two hopper to the back of the cage. 2Avoid falling backward onto your back knee. 18 - Step Back Drill Summary\\n \\nThe Step Back Drill helps develop a feel for the proper weight shift during the load phase of the baseball swing. It also helps with rhythm.Purpose1Proper weight shift: Helps avoid letting your weight get too far over the back foot. 2Develop rhythm: Essential for a good baseball swing. Equipment● Batting TeeHow to Execute this Drill1Setup: Set up the tee for a pitch down the middle of the plate. Address home plate in your normal stance. Bring both feet to shoulder width. 2Step back: Take your back foot and put it in the spot you just moved it in from. 3Stride forward: Take your normal stride with your front foot. 4Swing: Work to hit line drives. Checkpoints1Keep your back knee inside your back foot. 2Maintain rhythm. 3Hit a line drive back up the middle. 19 - No Rotation DrillSummaryWith so many moving pieces in a baseball swing, sometimes it’s difficult to tell which motion is causing which problem. This drill isolates your upper half so you can work on making it better without the movement of your legs and lower body to interfere.Purpose●  Focuses on the upper body to develop a correct hand path. ●  Helps in developing rhythm and bat speed. Equipment ● Batting TeeHow to Execute this DrillHow to Execute this Drill\\n1Setup: Set up the tee for a pitch down the middle of the plate. 2Feet position: Take your normal stride without swinging. This is where your feet will stay throughout the drill. 3Weight distribution: Maintain a good 50/50 weight distribution between both feet. 4Rhythm: Keep your hands relaxed and moving. 5Load: Load your hands for bat speed. 6Swing: Swing and follow through without rotating your feet. Checkpoints1Focus on keeping rhythm with your relaxed hands. 2Check for a proper, level bat path. 3Feel the bat in your hands and adjust for different pitches. 20 - Soccer Ball DrillSummaryThe purpose of this drill is to keep all of your weight inside/between your feet. It also helps reduce head movement and create power without taking a big stride.Purpose1Shorten your stride: Reduces head movement and allows you to see the ball better. 2Weight shift: Ensures weight is on the inside of your back foot, creating a more powerful and balanced position. Equipment●  Batting Tee ●  Soccer ball, tether ball, basketball, or foursquare ball How to Execute this Drill 1Setup: Set up the tee for a pitch down the middle of the plate. 2Place the ball: Place the soccer ball between your legs above your knees and secure it by applying pressure with both legs. 3Swing: Swing normally while keeping the soccer ball from falling out. Checkpoints1Keep the soccer ball from falling out during the load or stride. 2Maintain weight shift between your feet and minimize head movement. \\n'"
            ]
          },
          "execution_count": 5,
          "metadata": {},
          "output_type": "execute_result"
        }
      ],
      "source": [
        "raw_text"
      ]
    },
    {
      "cell_type": "code",
      "execution_count": null,
      "metadata": {
        "id": "Po8APsQoSxbP"
      },
      "outputs": [],
      "source": [
        "text_splitter = RecursiveCharacterTextSplitter(\n",
        "    chunk_size=4000,  # Adjust this size according to your needs\n",
        "    chunk_overlap=200,  # Overlap to ensure context is maintained\n",
        "    length_function=len,\n",
        "    separators=[\"\\n\\n\", \"\\n\", \".\", \" \"]  # Add multiple separators\n",
        ")\n",
        "\n",
        "# Split the text into chunks\n",
        "texts = text_splitter.split_text(raw_text)"
      ]
    },
    {
      "cell_type": "code",
      "execution_count": null,
      "metadata": {
        "colab": {
          "base_uri": "https://localhost:8080/"
        },
        "id": "bn8AUVLeWKM3",
        "outputId": "7eadca2b-eb8e-4b48-aa91-cf5fabb178f1"
      },
      "outputs": [
        {
          "data": {
            "text/plain": [
              "16"
            ]
          },
          "execution_count": 17,
          "metadata": {},
          "output_type": "execute_result"
        }
      ],
      "source": [
        "len(texts)"
      ]
    },
    {
      "cell_type": "markdown",
      "metadata": {
        "id": "geXHQ09oWf6O"
      },
      "source": [
        "# Set Up OpenAI API Key"
      ]
    },
    {
      "cell_type": "code",
      "execution_count": null,
      "metadata": {
        "id": "zlD6sNInWQr_"
      },
      "outputs": [],
      "source": [
        "openai_api_key = \"YOUR API KEY\"   # Replace your OpenAI API key here."
      ]
    },
    {
      "cell_type": "code",
      "execution_count": null,
      "metadata": {
        "colab": {
          "base_uri": "https://localhost:8080/"
        },
        "id": "bgzI40O0Wt5P",
        "outputId": "29b82597-5cfe-47e6-c568-d4578cfec58c"
      },
      "outputs": [
        {
          "name": "stderr",
          "output_type": "stream",
          "text": [
            "/usr/local/lib/python3.10/dist-packages/langchain_core/_api/deprecation.py:139: LangChainDeprecationWarning: The class `OpenAI` was deprecated in LangChain 0.0.10 and will be removed in 0.3.0. An updated version of the class exists in the langchain-openai package and should be used instead. To use it run `pip install -U langchain-openai` and import as `from langchain_openai import OpenAI`.\n",
            "  warn_deprecated(\n",
            "/usr/local/lib/python3.10/dist-packages/langchain_core/_api/deprecation.py:139: LangChainDeprecationWarning: The class `OpenAIEmbeddings` was deprecated in LangChain 0.0.9 and will be removed in 0.3.0. An updated version of the class exists in the langchain-openai package and should be used instead. To use it run `pip install -U langchain-openai` and import as `from langchain_openai import OpenAIEmbeddings`.\n",
            "  warn_deprecated(\n"
          ]
        }
      ],
      "source": [
        "llm = OpenAI(api_key=openai_api_key)\n",
        "embeddings = OpenAIEmbeddings(api_key=openai_api_key)"
      ]
    },
    {
      "cell_type": "markdown",
      "metadata": {
        "id": "OtBfeBVRXAZ2"
      },
      "source": [
        "# Vectorstore From Langchain"
      ]
    },
    {
      "cell_type": "code",
      "execution_count": null,
      "metadata": {
        "colab": {
          "base_uri": "https://localhost:8080/"
        },
        "id": "YfnJyl1cW463",
        "outputId": "5480d78d-4762-4725-81a5-2cab8dda087e"
      },
      "outputs": [
        {
          "name": "stderr",
          "output_type": "stream",
          "text": [
            "/usr/local/lib/python3.10/dist-packages/langchain_core/_api/deprecation.py:139: LangChainDeprecationWarning: The class `Chroma` was deprecated in LangChain 0.2.9 and will be removed in 0.4. An updated version of the class exists in the langchain-chroma package and should be used instead. To use it run `pip install -U langchain-chroma` and import as `from langchain_chroma import Chroma`.\n",
            "  warn_deprecated(\n"
          ]
        }
      ],
      "source": [
        "vectorstore = Chroma(embedding_function=embeddings)"
      ]
    },
    {
      "cell_type": "code",
      "execution_count": null,
      "metadata": {
        "colab": {
          "base_uri": "https://localhost:8080/"
        },
        "id": "Fw7UkA64XV52",
        "outputId": "079a699d-ff0d-469a-bfff-f7708e91efe7"
      },
      "outputs": [
        {
          "data": {
            "text/plain": [
              "['d646bbc8-a3d9-4c54-8d23-3d40c734e25e',\n",
              " '8a664ad0-8d97-4044-b486-2a4de8d8b4b7',\n",
              " '5694c8ff-92f4-4258-9bfa-7b605d6b2971',\n",
              " '89dd5a58-ab36-45f4-9ab0-287276a52e15',\n",
              " '2ba860eb-c83e-4e36-a924-6f13de2b8f00',\n",
              " '127c0f81-6a5f-4dce-ba72-dc8649c75fa1',\n",
              " '169d1dea-3d5a-4bb5-a49a-818e2fde7f2d',\n",
              " '24dbe132-7667-4867-8db5-1167515eb3af',\n",
              " 'b9042700-add4-4214-905a-f718816d8cd0',\n",
              " 'fa0003dd-31ec-42df-af7e-5b6b9c9d74c6',\n",
              " '49aa2c8d-f210-488f-a5e8-a037b6107e2c',\n",
              " '02800fd7-ce0e-4362-b6c7-bddda98647f8',\n",
              " '4dd61086-6051-4d88-a5be-9f9787d41930',\n",
              " '465058de-31ec-414d-95de-20d744164de3',\n",
              " '26f8b0f3-424f-471f-8d90-5c5825fbf2e6',\n",
              " 'cb66f9ee-4adb-42eb-88ee-c3ea935b7131']"
            ]
          },
          "execution_count": 11,
          "metadata": {},
          "output_type": "execute_result"
        }
      ],
      "source": [
        "vectorstore.add_texts(texts)"
      ]
    },
    {
      "cell_type": "markdown",
      "metadata": {
        "id": "YeJ3zW65ZHNv"
      },
      "source": [
        "# Define LLM Chain And PromptTemplate"
      ]
    },
    {
      "cell_type": "code",
      "execution_count": null,
      "metadata": {
        "colab": {
          "base_uri": "https://localhost:8080/"
        },
        "id": "wHuZrk1SZUn9",
        "outputId": "00a5ff34-4593-48d4-df77-d28d34d2792e"
      },
      "outputs": [
        {
          "name": "stderr",
          "output_type": "stream",
          "text": [
            "/usr/local/lib/python3.10/dist-packages/langchain_core/_api/deprecation.py:139: LangChainDeprecationWarning: The class `LLMChain` was deprecated in LangChain 0.1.17 and will be removed in 1.0. Use RunnableSequence, e.g., `prompt | llm` instead.\n",
            "  warn_deprecated(\n"
          ]
        }
      ],
      "source": [
        "# Define the prompt templates\n",
        "combine_docs_prompt = PromptTemplate(\n",
        "    input_variables=[\"context\", \"question\"],\n",
        "    template=\"Given the following context, answer the question.\\nContext: {context}\\nQuestion: {question}\\nAnswer:\"\n",
        ")\n",
        "question_gen_prompt = PromptTemplate(\n",
        "    input_variables=[\"context\", \"question\"],\n",
        "    template=\"Given the following context, generate a detailed question.\\nContext: {context}\\nQuestion: {question}\\nDetailed Question:\"\n",
        ")\n",
        "\n",
        "# Define the LLM chains for combining documents and generating questions\n",
        "llm_chain_for_combine = LLMChain(llm=llm, prompt=combine_docs_prompt)\n",
        "question_gen_chain = LLMChain(llm=llm, prompt=question_gen_prompt)\n",
        "\n",
        "# Define the StuffDocumentsChain\n",
        "combine_docs_chain = StuffDocumentsChain(llm_chain=llm_chain_for_combine, document_variable_name=\"context\")"
      ]
    },
    {
      "cell_type": "code",
      "execution_count": null,
      "metadata": {
        "colab": {
          "base_uri": "https://localhost:8080/"
        },
        "id": "s3T8Et4SZb2H",
        "outputId": "e24be747-a5ec-488e-d8d7-af922e4986c9"
      },
      "outputs": [
        {
          "name": "stderr",
          "output_type": "stream",
          "text": [
            "/usr/local/lib/python3.10/dist-packages/langchain_core/_api/deprecation.py:139: LangChainDeprecationWarning: The class `ConversationalRetrievalChain` was deprecated in LangChain 0.1.17 and will be removed in 0.3.0. Use create_history_aware_retriever together with create_retrieval_chain (see example in docstring) instead.\n",
            "  warn_deprecated(\n"
          ]
        }
      ],
      "source": [
        "# Define the conversational retrieval chain\n",
        "chain = ConversationalRetrievalChain(\n",
        "    combine_docs_chain=combine_docs_chain,\n",
        "    question_generator=question_gen_chain,\n",
        "    retriever=vectorstore.as_retriever()\n",
        ")"
      ]
    },
    {
      "cell_type": "markdown",
      "metadata": {
        "id": "MWd-50nEXolY"
      },
      "source": [
        "# Define Function For Query"
      ]
    },
    {
      "cell_type": "code",
      "execution_count": null,
      "metadata": {
        "id": "HiFVqImcXgSH"
      },
      "outputs": [],
      "source": [
        "# chat_history = []\n",
        "# def query_chain(query, chat_history):\n",
        "#     docs = vectorstore.similarity_search(query, k=5)  # Adjust k as needed\n",
        "#     result = chain({\"question\": query, \"chat_history\": chat_history, \"contex\": docs})\n",
        "#     # chat_history.append((query, result['answer']))\n",
        "#     return result['answer']"
      ]
    },
    {
      "cell_type": "code",
      "execution_count": null,
      "metadata": {
        "id": "35im58Acf0J_"
      },
      "outputs": [],
      "source": [
        "chat_history = []\n",
        "def query_chain(query, chat_history):\n",
        "    docs = vectorstore.similarity_search(query, k=5)  # Adjust k as needed\n",
        "    result = chain({\"question\": query, \"chat_history\": chat_history, \"context\": docs})\n",
        "    # chat_history.append((query, result['output_text']))\n",
        "\n",
        "    # Check if the response is complete or truncated\n",
        "    while not result['answer'].strip().endswith(('.', '!', '?')):\n",
        "        follow_up_query = \"Can you continue the answer?\"\n",
        "        follow_up_response = chain({\"question\": follow_up_query, \"chat_history\": chat_history, \"context\": docs})\n",
        "        result['answer'] += \" \" + follow_up_response['answer']\n",
        "        # chat_history.append((follow_up_query, follow_up_response['answer']))\n",
        "\n",
        "    return result['answer']"
      ]
    },
    {
      "cell_type": "markdown",
      "metadata": {
        "id": "CAnog7BobP0W"
      },
      "source": [
        "# Ask The Question And Get Answer"
      ]
    },
    {
      "cell_type": "code",
      "execution_count": null,
      "metadata": {
        "colab": {
          "base_uri": "https://localhost:8080/"
        },
        "id": "WVUvrTvGa64n",
        "outputId": "b178e7ac-c777-46b1-de97-6abe5110ab99"
      },
      "outputs": [
        {
          "name": "stderr",
          "output_type": "stream",
          "text": [
            "/usr/local/lib/python3.10/dist-packages/langchain_core/_api/deprecation.py:139: LangChainDeprecationWarning: The method `Chain.__call__` was deprecated in langchain 0.1.0 and will be removed in 0.3.0. Use invoke instead.\n",
            "  warn_deprecated(\n"
          ]
        },
        {
          "name": "stdout",
          "output_type": "stream",
          "text": [
            "Response:\n",
            " The Inverted Top Hand Drill is a batting drill that aims to help hitters who pull a lot of hard foul balls due to an overactive top hand. This drill isolates the bottom hand and teaches it to work together with the top hand. To execute this drill, the hitter sets up a batting tee for a pitch down the middle of the plate and addresses home plate as they would in a game. They then narrow their stance and move their front foot so their feet are square to home plate. The top hand is taken off the bat and turned upside down, with the thumbs from both hands touching. The back elbow is kept high and the top hand remains loosely on the bat, only pushing. The focus is on using the bottom hand to do most of the work and hit line drives to the back of the cage. This drill helps hitters to develop a better bat path and prevent the top hand from taking over too quickly. It also helps with weight transfer from the backside to the front side and keeping the front shoulder in during the swing. \n"
          ]
        }
      ],
      "source": [
        "query = \"What is Inverted Top Hand Drill? Explain\"\n",
        "response = query_chain(query, chat_history)\n",
        "\n",
        "print(\"Response:\")\n",
        "print(response)"
      ]
    },
    {
      "cell_type": "code",
      "execution_count": null,
      "metadata": {
        "colab": {
          "base_uri": "https://localhost:8080/"
        },
        "id": "xb-d48tfiU_u",
        "outputId": "00981067-cb3d-4998-8b5b-db18a1bb38cc"
      },
      "outputs": [
        {
          "name": "stdout",
          "output_type": "stream",
          "text": [
            "Response:\n",
            " To execute the Separation Drill, follow these steps:\n",
            "\n",
            "1. Set up the batting tee for a pitch down the middle of the plate.\n",
            "2. Start in your normal batting stance, facing home plate.\n",
            "3. Lift your front knee and hold it parallel to the ground.\n",
            "4. At the same time, take your bat from resting on your back shoulder and move your hands back away from your body.\n",
            "5. Stride towards the pitch, keeping your head and body still.\n",
            "6. As your front foot lands, make sure your weight is evenly distributed.\n",
            "7. Hold this position for a second or two.\n",
            "8. Repeat this drill, focusing on maintaining proper balance and separation between your hands and body. \n"
          ]
        }
      ],
      "source": [
        "query = \"How to execute Separation Drill?\"\n",
        "response = query_chain(query, chat_history)\n",
        "\n",
        "print(\"Response:\")\n",
        "print(response)"
      ]
    },
    {
      "cell_type": "code",
      "execution_count": null,
      "metadata": {
        "colab": {
          "base_uri": "https://localhost:8080/"
        },
        "id": "uoyQMgvdQm-R",
        "outputId": "812aca39-badd-48cb-d0a8-42fb973d6606"
      },
      "outputs": [
        {
          "name": "stdout",
          "output_type": "stream",
          "text": [
            "Response:\n",
            " Here are the steps to execute the 45 degree angle drill:\n",
            "\n",
            "1. Set up the batting tee: Place the batting tee on top of home plate and adjust its position to make the drill easier or more difficult.\n",
            "\n",
            "2. Position your feet: Place your back foot in line with the angle of home plate from the outside corner to the point. This imaginary line is where your back foot should be. Your front foot should be square to your back foot, creating a 45 degree angle to home plate.\n",
            "\n",
            "3. Get in an athletic stance: Make sure to have some flex in your front leg (about 60% of your body weight) as you start your swing. This will help you stay balanced and athletic throughout the drill.\n",
            "\n",
            "4. Swing without striding: In this drill, you will not take a stride. Instead, you will widen your stance to find your athletic base and keep your front foot in place as you swing.\n",
            "\n",
            "5. Focus on getting the bat in the zone early: The key to this drill is getting the bat into the hitting zone early and on plane with the pitch. This will help you make solid contact and hit the ball with more power.\n",
            "\n",
            "6. Finish with your front foot fully locked out: As you swing, your front leg should straight  Yes, there are a few more checkpoints for this drill that can help improve your swing. 3Check your balance: Make sure you are staying balanced throughout the swing, and not leaning too much towards the front or back. 4Focus on your stride: Pay attention to the length and direction of your stride, making sure it is not too long or pulling you off balance. 5Maintain a compact swing: The purpose of this drill is to help you keep your swing compact and powerful, so make sure you are not extending your arms too far out or swinging too wildly. 6Adjust for different pitches: As you get more comfortable with this drill, you can challenge yourself by hitting different pitches, such as low or high ones, to practice making adjustments with your swing. 7Repeat for consistency: Like with any drill, repetition is key. Keep practicing this drill to improve your balance, weight shift, and overall swing.\n"
          ]
        }
      ],
      "source": [
        "query = \"How to execute 45 angle drill?\"\n",
        "response = query_chain(query, chat_history)\n",
        "\n",
        "print(\"Response:\")\n",
        "print(response)"
      ]
    }
  ],
  "metadata": {
    "colab": {
      "provenance": []
    },
    "kernelspec": {
      "display_name": "Python 3",
      "name": "python3"
    },
    "language_info": {
      "name": "python"
    }
  },
  "nbformat": 4,
  "nbformat_minor": 0
}
